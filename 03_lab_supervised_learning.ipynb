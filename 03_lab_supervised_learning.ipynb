{
  "cells": [
    {
      "cell_type": "markdown",
      "metadata": {
        "id": "p-4m5sUo5i62"
      },
      "source": [
        "# Before your start:\n",
        "- Read the README.md file\n",
        "- Comment as much as you can and use the resources in the README.md file\n",
        "- Happy learning!"
      ]
    },
    {
      "cell_type": "code",
      "execution_count": 1,
      "metadata": {
        "id": "1kDYEX7g5i66"
      },
      "outputs": [],
      "source": [
        "# Import your libraries:\n",
        "\n",
        "%matplotlib inline\n",
        "\n",
        "import numpy as np\n",
        "import pandas as pd"
      ]
    },
    {
      "cell_type": "markdown",
      "metadata": {
        "id": "9w5TheqF5i68"
      },
      "source": [
        "In this lab, we will explore a dataset that describes websites with different features and labels them either benign or malicious . We will use supervised learning algorithms to figure out what feature patterns malicious websites are likely to have and use our model to predict malicious websites.\n",
        "\n",
        "# Challenge 1 - Explore The Dataset\n",
        "\n",
        "Let's start by exploring the dataset. First load the data file:"
      ]
    },
    {
      "cell_type": "code",
      "execution_count": 85,
      "metadata": {
        "id": "vo6RWOBX5i68"
      },
      "outputs": [],
      "source": [
        "websites = pd.read_csv(\"/content/website.csv\")"
      ]
    },
    {
      "cell_type": "markdown",
      "metadata": {
        "id": "y_CCDrh_5i69"
      },
      "source": [
        "#### Explore the data from an bird's-eye view.\n",
        "\n",
        "You should already been very familiar with the procedures now so we won't provide the instructions step by step. Reflect on what you did in the previous labs and explore the dataset.\n",
        "\n",
        "Things you'll be looking for:\n",
        "\n",
        "* What the dataset looks like?\n",
        "* What are the data types?\n",
        "* Which columns contain the features of the websites?\n",
        "* Which column contains the feature we will predict? What is the code standing for benign vs malicious websites?\n",
        "* Do we need to transform any of the columns from categorical to ordinal values? If so what are these columns?\n",
        "\n",
        "Feel free to add additional cells for your explorations. Make sure to comment what you find out."
      ]
    },
    {
      "cell_type": "code",
      "source": [
        "websites.head()"
      ],
      "metadata": {
        "id": "FHCqChcE6s4B"
      },
      "execution_count": null,
      "outputs": []
    },
    {
      "cell_type": "code",
      "execution_count": 4,
      "metadata": {
        "colab": {
          "base_uri": "https://localhost:8080/"
        },
        "id": "tMoQbBu25i69",
        "outputId": "48be6639-e6a7-4e2c-da19-879c17ddf354"
      },
      "outputs": [
        {
          "output_type": "stream",
          "name": "stdout",
          "text": [
            "The actual shape of my data is 1781 rows and 21 columns\n"
          ]
        }
      ],
      "source": [
        "print(\"The actual shape of my data is\",websites.shape[0],\"rows and\",websites.shape[1],\"columns\")"
      ]
    },
    {
      "cell_type": "code",
      "execution_count": 5,
      "metadata": {
        "id": "r9WQ-K_V5i69",
        "colab": {
          "base_uri": "https://localhost:8080/"
        },
        "outputId": "f9927544-005f-4407-cb54-a02c3ba0d10c"
      },
      "outputs": [
        {
          "output_type": "stream",
          "name": "stdout",
          "text": [
            "Our data has the following data types:\n",
            "\n"
          ]
        },
        {
          "output_type": "execute_result",
          "data": {
            "text/plain": [
              "URL                           object\n",
              "URL_LENGTH                     int64\n",
              "NUMBER_SPECIAL_CHARACTERS      int64\n",
              "CHARSET                       object\n",
              "SERVER                        object\n",
              "CONTENT_LENGTH               float64\n",
              "WHOIS_COUNTRY                 object\n",
              "WHOIS_STATEPRO                object\n",
              "WHOIS_REGDATE                 object\n",
              "WHOIS_UPDATED_DATE            object\n",
              "TCP_CONVERSATION_EXCHANGE      int64\n",
              "DIST_REMOTE_TCP_PORT           int64\n",
              "REMOTE_IPS                     int64\n",
              "APP_BYTES                      int64\n",
              "SOURCE_APP_PACKETS             int64\n",
              "REMOTE_APP_PACKETS             int64\n",
              "SOURCE_APP_BYTES               int64\n",
              "REMOTE_APP_BYTES               int64\n",
              "APP_PACKETS                    int64\n",
              "DNS_QUERY_TIMES              float64\n",
              "Type                           int64\n",
              "dtype: object"
            ]
          },
          "metadata": {},
          "execution_count": 5
        }
      ],
      "source": [
        "print(\"Our data has the following data types:\\n\")\n",
        "websites.dtypes"
      ]
    },
    {
      "cell_type": "code",
      "source": [
        "# features of the websites could be NUMBER_SPECIAL_CHARACTERS, CHARSET, CONTENT_LENGTH, SERVER ... and almost all of them or all (?)\n",
        "websites.columns"
      ],
      "metadata": {
        "id": "AZqdCGpK7Ltf",
        "colab": {
          "base_uri": "https://localhost:8080/"
        },
        "outputId": "ea0396c7-4140-4b54-9fdc-dd2b6d0850ff"
      },
      "execution_count": 6,
      "outputs": [
        {
          "output_type": "execute_result",
          "data": {
            "text/plain": [
              "Index(['URL', 'URL_LENGTH', 'NUMBER_SPECIAL_CHARACTERS', 'CHARSET', 'SERVER',\n",
              "       'CONTENT_LENGTH', 'WHOIS_COUNTRY', 'WHOIS_STATEPRO', 'WHOIS_REGDATE',\n",
              "       'WHOIS_UPDATED_DATE', 'TCP_CONVERSATION_EXCHANGE',\n",
              "       'DIST_REMOTE_TCP_PORT', 'REMOTE_IPS', 'APP_BYTES', 'SOURCE_APP_PACKETS',\n",
              "       'REMOTE_APP_PACKETS', 'SOURCE_APP_BYTES', 'REMOTE_APP_BYTES',\n",
              "       'APP_PACKETS', 'DNS_QUERY_TIMES', 'Type'],\n",
              "      dtype='object')"
            ]
          },
          "metadata": {},
          "execution_count": 6
        }
      ]
    },
    {
      "cell_type": "code",
      "source": [
        "# Which column contains the feature we will predict? I would say the \"Type\", because it's an \"1\" or \"0 \" classification. It's not somenthing that\n",
        "# it's intrisic of the website, but rather a \"result\" of the caractheristics.\n",
        "websites[\"Type\"].unique()"
      ],
      "metadata": {
        "id": "A0xlVp0w7LrE",
        "colab": {
          "base_uri": "https://localhost:8080/"
        },
        "outputId": "9bb4814f-a2ed-4f2c-a70d-892ebecc4d3c"
      },
      "execution_count": 7,
      "outputs": [
        {
          "output_type": "execute_result",
          "data": {
            "text/plain": [
              "array([1, 0])"
            ]
          },
          "metadata": {},
          "execution_count": 7
        }
      ]
    },
    {
      "cell_type": "code",
      "source": [
        "# Do we need to transform any of the columns from categorical to ordinal values? If so what are these columns?\n",
        "# I would probably change the \"WHOIS_UPDATED_DATE \" columns(but first need to analyze if it's a column to use further).\n",
        "\n",
        "# URL                           object --- > ok\n",
        "# WHOIS_REGDATE                 object --- > let's see\n",
        "# WHOIS_UPDATED_DATE            object --- > let's see\n",
        "\n",
        "websites[\"CHARSET\"].unique()\n",
        "websites[\"SERVER\"].unique() # djisus, let it be object\n",
        "websites[\"WHOIS_COUNTRY\"].unique()  # let it be object, but clean the United Kingdom, Cyprus and \"[u'GB'; u'UK']\"\n",
        "websites[\"WHOIS_STATEPRO\"].unique() # let it be object, but is this a problem:  'widestep@mail.ru' ???"
      ],
      "metadata": {
        "id": "kCvCcq5V7Lma"
      },
      "execution_count": null,
      "outputs": []
    },
    {
      "cell_type": "markdown",
      "metadata": {
        "id": "EgcRmxhl5i6-"
      },
      "source": [
        "#### Next, evaluate if the columns in this dataset are strongly correlated.\n",
        "\n",
        "If our dataset has strongly correlated columns, we need to choose certain ML algorithms instead of others. We need to evaluate this for our dataset now.\n",
        "\n",
        "Luckily, most of the columns in this dataset are ordinal which makes things a lot easier for us. In the next cells below, evaluate the level of collinearity of the data.\n",
        "\n",
        "We provide some general directions for you to consult in order to complete this step:\n",
        "\n",
        "1. You will create a correlation matrix using the numeric columns in the dataset.\n",
        "\n",
        "1. Create a heatmap using `seaborn` to visualize which columns have high collinearity.\n",
        "\n",
        "1. Comment on which columns you might need to remove due to high collinearity."
      ]
    },
    {
      "cell_type": "code",
      "execution_count": 8,
      "metadata": {
        "id": "Q8Cpaihy5i6-"
      },
      "outputs": [],
      "source": [
        "numeric_columns = ['URL_LENGTH', 'NUMBER_SPECIAL_CHARACTERS', 'CONTENT_LENGTH', 'TCP_CONVERSATION_EXCHANGE', 'DIST_REMOTE_TCP_PORT',\n",
        "                   'REMOTE_IPS', 'APP_BYTES', 'SOURCE_APP_PACKETS', 'REMOTE_APP_PACKETS', 'SOURCE_APP_BYTES', 'REMOTE_APP_BYTES',\n",
        "                   'APP_PACKETS', 'DNS_QUERY_TIMES', 'Type']"
      ]
    },
    {
      "cell_type": "code",
      "execution_count": 9,
      "metadata": {
        "id": "3vyJl0ev5i6_",
        "colab": {
          "base_uri": "https://localhost:8080/",
          "height": 1000
        },
        "outputId": "8897ba7b-47b7-48d2-b0a5-dda9a8056926"
      },
      "outputs": [
        {
          "output_type": "display_data",
          "data": {
            "text/plain": [
              "<Figure size 1400x1400 with 2 Axes>"
            ],
            "image/png": "[encoded data removed]"
          },
          "metadata": {}
        }
      ],
      "source": [
        "import seaborn as sns\n",
        "import matplotlib.pyplot as plt\n",
        "\n",
        "# example in class with salaries dataset\n",
        "\n",
        "corr=np.abs(websites[numeric_columns].corr())\n",
        "\n",
        "#Set up mask for triangle representation\n",
        "mask = np.zeros_like(corr, dtype=bool)\n",
        "mask[np.triu_indices_from(mask)] = True\n",
        "\n",
        "# Set up the matplotlib figure\n",
        "f, ax = plt.subplots(figsize=(14, 14))\n",
        "# Generate a custom diverging colormap\n",
        "cmap = sns.diverging_palette(220, 10, as_cmap=True)\n",
        "# Draw the heatmap with the mask and correct aspect ratio\n",
        "sns.heatmap(corr, mask=mask,  vmax=1,square=True, linewidths=.5, cbar_kws={\"shrink\": .5},annot = corr)\n",
        "\n",
        "plt.show()\n",
        "\n",
        "## I think high collinearity is when you have variables that are highly correlated between themselves, so it means thar we can drop\n",
        "## one (or more, actually) because they will add noise, repeated info to the target."
      ]
    },
    {
      "cell_type": "markdown",
      "metadata": {
        "id": "-6xm_7cd5i6_"
      },
      "source": [
        "# Challenge 2 - Remove Column Collinearity.\n",
        "\n",
        "From the heatmap you created, you should have seen at least 3 columns that can be removed due to high collinearity. Remove these columns from the dataset.\n",
        "\n",
        "Note that you should remove as few columns as you can. You don't have to remove all the columns at once. But instead, try removing one column, then produce the heatmap again to determine if additional columns should be removed. As long as the dataset no longer contains columns that are correlated for over 90%, you can stop. Also, keep in mind when two columns have high collinearity, you only need to remove one of them but not both.\n",
        "\n",
        "In the cells below, remove as few columns as you can to eliminate the high collinearity in the dataset. Make sure to comment on your way so that the instructional team can learn about your thinking process which allows them to give feedback. At the end, print the heatmap again."
      ]
    },
    {
      "cell_type": "code",
      "execution_count": null,
      "metadata": {
        "id": "4gIyopKV5i7A"
      },
      "outputs": [],
      "source": [
        "# Removing 'SOURCE_APP_PACKETS'\n",
        "numeric_columns = ['URL_LENGTH', 'NUMBER_SPECIAL_CHARACTERS', 'CONTENT_LENGTH', 'TCP_CONVERSATION_EXCHANGE', 'DIST_REMOTE_TCP_PORT',\n",
        "                   'REMOTE_IPS', 'APP_BYTES', 'REMOTE_APP_PACKETS', 'SOURCE_APP_BYTES', 'REMOTE_APP_BYTES',\n",
        "                   'APP_PACKETS', 'DNS_QUERY_TIMES', 'Type']\n",
        "\n",
        "corr=np.abs(websites[numeric_columns].corr())\n",
        "\n",
        "#Set up mask for triangle representation\n",
        "mask = np.zeros_like(corr, dtype=bool)\n",
        "mask[np.triu_indices_from(mask)] = True\n",
        "\n",
        "# Set up the matplotlib figure\n",
        "f, ax = plt.subplots(figsize=(14, 14))\n",
        "# Generate a custom diverging colormap\n",
        "cmap = sns.diverging_palette(220, 10, as_cmap=True)\n",
        "# Draw the heatmap with the mask and correct aspect ratio\n",
        "sns.heatmap(corr, mask=mask,  vmax=1,square=True, linewidths=.5, cbar_kws={\"shrink\": .5},annot = corr)\n",
        "\n",
        "plt.show()"
      ]
    },
    {
      "cell_type": "code",
      "execution_count": null,
      "metadata": {
        "id": "leJCw7S_5i7A"
      },
      "outputs": [],
      "source": [
        "# Removing 'SOURCE_APP_PACKETS' plus 'APP_BYTES'\n",
        "numeric_columns = ['URL_LENGTH', 'NUMBER_SPECIAL_CHARACTERS', 'CONTENT_LENGTH', 'TCP_CONVERSATION_EXCHANGE', 'DIST_REMOTE_TCP_PORT',\n",
        "                   'REMOTE_IPS', 'REMOTE_APP_PACKETS', 'SOURCE_APP_BYTES', 'REMOTE_APP_BYTES',\n",
        "                   'APP_PACKETS', 'DNS_QUERY_TIMES', 'Type']\n",
        "\n",
        "corr=np.abs(websites[numeric_columns].corr())\n",
        "\n",
        "#Set up mask for triangle representation\n",
        "mask = np.zeros_like(corr, dtype=bool)\n",
        "mask[np.triu_indices_from(mask)] = True\n",
        "\n",
        "# Set up the matplotlib figure\n",
        "f, ax = plt.subplots(figsize=(14, 14))\n",
        "# Generate a custom diverging colormap\n",
        "cmap = sns.diverging_palette(220, 10, as_cmap=True)\n",
        "# Draw the heatmap with the mask and correct aspect ratio\n",
        "sns.heatmap(corr, mask=mask,  vmax=1,square=True, linewidths=.5, cbar_kws={\"shrink\": .5},annot = corr)\n",
        "\n",
        "plt.show()"
      ]
    },
    {
      "cell_type": "code",
      "source": [
        "# Removing 'SOURCE_APP_PACKETS' plus 'APP_BYTES' plus 'APP_PACKETS'\n",
        "numeric_columns = ['URL_LENGTH', 'NUMBER_SPECIAL_CHARACTERS', 'CONTENT_LENGTH', 'TCP_CONVERSATION_EXCHANGE', 'DIST_REMOTE_TCP_PORT',\n",
        "                   'REMOTE_IPS', 'REMOTE_APP_PACKETS', 'SOURCE_APP_BYTES', 'REMOTE_APP_BYTES','DNS_QUERY_TIMES', 'Type']\n",
        "\n",
        "corr=np.abs(websites[numeric_columns].corr())\n",
        "\n",
        "#Set up mask for triangle representation\n",
        "mask = np.zeros_like(corr, dtype=bool)\n",
        "mask[np.triu_indices_from(mask)] = True\n",
        "\n",
        "# Set up the matplotlib figure\n",
        "f, ax = plt.subplots(figsize=(14, 14))\n",
        "# Generate a custom diverging colormap\n",
        "cmap = sns.diverging_palette(220, 10, as_cmap=True)\n",
        "# Draw the heatmap with the mask and correct aspect ratio\n",
        "sns.heatmap(corr, mask=mask,  vmax=1,square=True, linewidths=.5, cbar_kws={\"shrink\": .5},annot = corr)\n",
        "\n",
        "plt.show()"
      ],
      "metadata": {
        "id": "JLpSXILhIou3"
      },
      "execution_count": null,
      "outputs": []
    },
    {
      "cell_type": "code",
      "source": [
        "# Removing 'SOURCE_APP_PACKETS' plus 'APP_BYTES' plus 'APP_PACKETS' plus 'REMOTE_APP_PACKETS'\n",
        "numeric_columns = ['URL_LENGTH', 'NUMBER_SPECIAL_CHARACTERS', 'CONTENT_LENGTH', 'TCP_CONVERSATION_EXCHANGE', 'DIST_REMOTE_TCP_PORT',\n",
        "                   'REMOTE_IPS', 'SOURCE_APP_BYTES', 'REMOTE_APP_BYTES','DNS_QUERY_TIMES', 'Type']\n",
        "\n",
        "corr=np.abs(websites[numeric_columns].corr())\n",
        "\n",
        "#Set up mask for triangle representation\n",
        "mask = np.zeros_like(corr, dtype=bool)\n",
        "mask[np.triu_indices_from(mask)] = True\n",
        "\n",
        "# Set up the matplotlib figure\n",
        "f, ax = plt.subplots(figsize=(14, 14))\n",
        "# Generate a custom diverging colormap\n",
        "cmap = sns.diverging_palette(220, 10, as_cmap=True)\n",
        "# Draw the heatmap with the mask and correct aspect ratio\n",
        "sns.heatmap(corr, mask=mask,  vmax=1,square=True, linewidths=.5, cbar_kws={\"shrink\": .5},annot = corr)\n",
        "\n",
        "plt.show()"
      ],
      "metadata": {
        "id": "JdjrmMDVJAwx"
      },
      "execution_count": null,
      "outputs": []
    },
    {
      "cell_type": "markdown",
      "metadata": {
        "id": "dY9P5UjH5i7B"
      },
      "source": [
        "# Challenge 3 - Handle Missing Values\n",
        "\n",
        "The next step would be handling missing values. **We start by examining the number of missing values in each column, which you will do in the next cell.**"
      ]
    },
    {
      "cell_type": "code",
      "execution_count": 12,
      "metadata": {
        "id": "pXV6sGFM5i7B",
        "colab": {
          "base_uri": "https://localhost:8080/"
        },
        "outputId": "df1a60dc-0290-4ed5-f3eb-cf7b42e1f9f6"
      },
      "outputs": [
        {
          "output_type": "execute_result",
          "data": {
            "text/plain": [
              "URL                            0\n",
              "URL_LENGTH                     0\n",
              "NUMBER_SPECIAL_CHARACTERS      0\n",
              "CHARSET                        0\n",
              "SERVER                         1\n",
              "CONTENT_LENGTH               812\n",
              "WHOIS_COUNTRY                  0\n",
              "WHOIS_STATEPRO                 0\n",
              "WHOIS_REGDATE                  0\n",
              "WHOIS_UPDATED_DATE             0\n",
              "TCP_CONVERSATION_EXCHANGE      0\n",
              "DIST_REMOTE_TCP_PORT           0\n",
              "REMOTE_IPS                     0\n",
              "APP_BYTES                      0\n",
              "SOURCE_APP_PACKETS             0\n",
              "REMOTE_APP_PACKETS             0\n",
              "SOURCE_APP_BYTES               0\n",
              "REMOTE_APP_BYTES               0\n",
              "APP_PACKETS                    0\n",
              "DNS_QUERY_TIMES                1\n",
              "Type                           0\n",
              "dtype: int64"
            ]
          },
          "metadata": {},
          "execution_count": 12
        }
      ],
      "source": [
        "websites.isnull().sum()\n",
        "# not bad -column wise -- basically need to handle \"just\" one column"
      ]
    },
    {
      "cell_type": "markdown",
      "metadata": {
        "id": "lhomxjxo5i7C"
      },
      "source": [
        "If you remember in the previous labs, we drop a column if the column contains a high proportion of missing values. After dropping those problematic columns, we drop the rows with missing values.\n",
        "\n",
        "#### In the cells below, handle the missing values from the dataset. Remember to comment the rationale of your decisions."
      ]
    },
    {
      "cell_type": "code",
      "execution_count": 13,
      "metadata": {
        "colab": {
          "base_uri": "https://localhost:8080/"
        },
        "id": "lunupnKv5i7C",
        "outputId": "a756d809-a042-4673-d305-baa3cc80f817"
      },
      "outputs": [
        {
          "output_type": "execute_result",
          "data": {
            "text/plain": [
              "812"
            ]
          },
          "metadata": {},
          "execution_count": 13
        }
      ],
      "source": [
        "content_nulls = websites[\"CONTENT_LENGTH\"].isnull().sum() # 812 nulls in CONTENT_LENGTH\n",
        "content_nulls"
      ]
    },
    {
      "cell_type": "code",
      "execution_count": 14,
      "metadata": {
        "colab": {
          "base_uri": "https://localhost:8080/"
        },
        "id": "MsXohn8N5i7C",
        "outputId": "9cebdda5-1687-40ab-b926-ba09ed2a685f"
      },
      "outputs": [
        {
          "output_type": "execute_result",
          "data": {
            "text/plain": [
              "1781"
            ]
          },
          "metadata": {},
          "execution_count": 14
        }
      ],
      "source": [
        "websites.shape[0]"
      ]
    },
    {
      "cell_type": "code",
      "source": [
        "ratio_nulls = (content_nulls/websites.shape[0])*100\n",
        "print(\"The ratio of nulls in our dataset is\", ratio_nulls,\"%\\n\")\n",
        "print(\"Djisus Christ!!!\")"
      ],
      "metadata": {
        "colab": {
          "base_uri": "https://localhost:8080/"
        },
        "id": "VezV_aYjL6F2",
        "outputId": "66eb30da-deff-4bb1-f6f0-29476f467fd4"
      },
      "execution_count": 15,
      "outputs": [
        {
          "output_type": "stream",
          "name": "stdout",
          "text": [
            "The ratio of nulls in our dataset is 45.59236384053902 %\n",
            "\n",
            "Djisus Christ!!!\n"
          ]
        }
      ]
    },
    {
      "cell_type": "code",
      "source": [
        "# I am gonna drop this, righ??\n",
        "websites.drop(\"CONTENT_LENGTH\", axis = 1, inplace = True)"
      ],
      "metadata": {
        "id": "H3o8OuZkNOuY"
      },
      "execution_count": 16,
      "outputs": []
    },
    {
      "cell_type": "markdown",
      "metadata": {
        "id": "vLXCvE3G5i7C"
      },
      "source": [
        "#### Again, examine the number of missing values in each column.\n",
        "\n",
        "If all cleaned, proceed. Otherwise, go back and do more cleaning."
      ]
    },
    {
      "cell_type": "code",
      "execution_count": 17,
      "metadata": {
        "colab": {
          "base_uri": "https://localhost:8080/"
        },
        "id": "6cMaFKlt5i7D",
        "outputId": "1c649d9a-4f19-4017-a84b-03fa8d5c4fee"
      },
      "outputs": [
        {
          "output_type": "stream",
          "name": "stdout",
          "text": [
            "number of nulls in server column: 1\n",
            "number of nulls in dns query times column: 1\n"
          ]
        }
      ],
      "source": [
        "websites.isnull().sum()\n",
        "print(\"number of nulls in server column:\", websites[\"SERVER\"].isnull().sum())\n",
        "print(\"number of nulls in dns query times column:\", websites[\"DNS_QUERY_TIMES\"].isnull().sum())"
      ]
    },
    {
      "cell_type": "code",
      "source": [
        "# using this now because i will lose only 2 rows\n",
        "websites.dropna(inplace = True)"
      ],
      "metadata": {
        "id": "UsNc1uprSBJ0"
      },
      "execution_count": 18,
      "outputs": []
    },
    {
      "cell_type": "code",
      "source": [
        "websites.isnull().sum()\n",
        "# Done here"
      ],
      "metadata": {
        "id": "-3nksrllG3tM",
        "colab": {
          "base_uri": "https://localhost:8080/"
        },
        "outputId": "f4a5a094-3112-4ab9-8040-488f9f4d3ca5"
      },
      "execution_count": 19,
      "outputs": [
        {
          "output_type": "execute_result",
          "data": {
            "text/plain": [
              "URL                          0\n",
              "URL_LENGTH                   0\n",
              "NUMBER_SPECIAL_CHARACTERS    0\n",
              "CHARSET                      0\n",
              "SERVER                       0\n",
              "WHOIS_COUNTRY                0\n",
              "WHOIS_STATEPRO               0\n",
              "WHOIS_REGDATE                0\n",
              "WHOIS_UPDATED_DATE           0\n",
              "TCP_CONVERSATION_EXCHANGE    0\n",
              "DIST_REMOTE_TCP_PORT         0\n",
              "REMOTE_IPS                   0\n",
              "APP_BYTES                    0\n",
              "SOURCE_APP_PACKETS           0\n",
              "REMOTE_APP_PACKETS           0\n",
              "SOURCE_APP_BYTES             0\n",
              "REMOTE_APP_BYTES             0\n",
              "APP_PACKETS                  0\n",
              "DNS_QUERY_TIMES              0\n",
              "Type                         0\n",
              "dtype: int64"
            ]
          },
          "metadata": {},
          "execution_count": 19
        }
      ]
    },
    {
      "cell_type": "markdown",
      "metadata": {
        "id": "TqS4Olr45i7D"
      },
      "source": [
        "# Challenge 4 - Handle `WHOIS_*` Categorical Data"
      ]
    },
    {
      "cell_type": "markdown",
      "metadata": {
        "id": "JeldMXKU5i7D"
      },
      "source": [
        "There are several categorical columns we need to handle. These columns are:\n",
        "\n",
        "* `URL`\n",
        "* `CHARSET`\n",
        "* `SERVER`\n",
        "* `WHOIS_COUNTRY`\n",
        "* `WHOIS_STATEPRO`\n",
        "* `WHOIS_REGDATE`\n",
        "* `WHOIS_UPDATED_DATE`\n",
        "\n",
        "How to handle string columns is always case by case. Let's start by working on `WHOIS_COUNTRY`. Your steps are:\n",
        "\n",
        "1. List out the unique values of `WHOIS_COUNTRY`.\n",
        "1. Consolidate the country values with consistent country codes. For example, the following values refer to the same country and should use consistent country code:\n",
        "    * `CY` and `Cyprus`\n",
        "    * `US` and `us`\n",
        "    * `SE` and `se`\n",
        "    * `GB`, `United Kingdom`, and `[u'GB'; u'UK']`\n",
        "\n",
        "#### In the cells below, fix the country values as intructed above."
      ]
    },
    {
      "cell_type": "code",
      "execution_count": 20,
      "metadata": {
        "colab": {
          "base_uri": "https://localhost:8080/"
        },
        "id": "rtMbP7T95i7E",
        "outputId": "18270895-4a62-4ad1-c795-a17339afd4ef"
      },
      "outputs": [
        {
          "output_type": "execute_result",
          "data": {
            "text/plain": [
              "array(['None', 'US', 'SC', 'GB', 'UK', 'RU', 'AU', 'CA', 'PA', 'se', 'IN',\n",
              "       'LU', 'TH', \"[u'GB'; u'UK']\", 'FR', 'NL', 'UG', 'JP', 'CN', 'SE',\n",
              "       'SI', 'IL', 'ru', 'KY', 'AT', 'CZ', 'PH', 'BE', 'NO', 'TR', 'LV',\n",
              "       'DE', 'ES', 'BR', 'us', 'KR', 'HK', 'UA', 'CH', 'United Kingdom',\n",
              "       'BS', 'PK', 'IT', 'Cyprus', 'BY', 'AE', 'IE', 'UY', 'KG'],\n",
              "      dtype=object)"
            ]
          },
          "metadata": {},
          "execution_count": 20
        }
      ],
      "source": [
        "websites[\"WHOIS_COUNTRY\"].unique()"
      ]
    },
    {
      "cell_type": "markdown",
      "metadata": {
        "id": "FVSoysa15i7E"
      },
      "source": [
        "Since we have fixed the country values, can we convert this column to ordinal now?\n",
        "\n",
        "Not yet. If you reflect on the previous labs how we handle categorical columns, you probably remember we ended up dropping a lot of those columns because there are too many unique values. Too many unique values in a column is not desirable in machine learning because it makes prediction inaccurate. But there are workarounds under certain conditions. One of the fixable conditions is:\n",
        "\n",
        "#### If a limited number of values account for the majority of data, we can retain these top values and re-label all other rare values.\n",
        "\n",
        "The `WHOIS_COUNTRY` column happens to be this case. You can verify it by print a bar chart of the `value_counts` in the next cell to verify:"
      ]
    },
    {
      "cell_type": "code",
      "source": [
        "websites[\"WHOIS_COUNTRY\"].value_counts()"
      ],
      "metadata": {
        "id": "Wbk-LK6I0Fdp"
      },
      "execution_count": null,
      "outputs": []
    },
    {
      "cell_type": "code",
      "source": [
        "# TA tip\n",
        "websites[\"WHOIS_COUNTRY\"].value_counts().plot(kind ='bar')"
      ],
      "metadata": {
        "id": "FiVqm5g6q6gV",
        "colab": {
          "base_uri": "https://localhost:8080/",
          "height": 544
        },
        "outputId": "1b80d510-79df-473d-8cf1-8c22a59112b6"
      },
      "execution_count": 86,
      "outputs": [
        {
          "output_type": "execute_result",
          "data": {
            "text/plain": [
              "<Axes: >"
            ]
          },
          "metadata": {},
          "execution_count": 86
        },
        {
          "output_type": "display_data",
          "data": {
            "text/plain": [
              "<Figure size 640x480 with 1 Axes>"
            ],
            "image/png": "[encoded data removed]"
          },
          "metadata": {}
        }
      ]
    },
    {
      "cell_type": "markdown",
      "metadata": {
        "id": "c79t9-8B5i7F"
      },
      "source": [
        "#### After verifying, now let's keep the top 10 values of the column and re-label other columns with `OTHER`."
      ]
    },
    {
      "cell_type": "code",
      "execution_count": 87,
      "metadata": {
        "scrolled": true,
        "id": "WedXO7b95i7F"
      },
      "outputs": [],
      "source": [
        "# syntax: df['Your Column'].value_counts().nlargest(\"N\")\n",
        "top_10 = websites[\"WHOIS_COUNTRY\"].value_counts().nlargest(10).index"
      ]
    },
    {
      "cell_type": "code",
      "source": [
        "# went for positive function from previous lab\n",
        "def country_function(x):\n",
        "  if x in top_10:\n",
        "    return x\n",
        "  else:\n",
        "    return \"Other\"\n",
        "\n",
        "websites[\"WHOIS_COUNTRY\"] = websites[\"WHOIS_COUNTRY\"].apply(country_function)\n",
        "websites.head(10)"
      ],
      "metadata": {
        "id": "me9bdXJQIsj1"
      },
      "execution_count": null,
      "outputs": []
    },
    {
      "cell_type": "code",
      "source": [
        "websites[\"WHOIS_COUNTRY\"].unique()"
      ],
      "metadata": {
        "id": "IeWE4EQaMuxD",
        "colab": {
          "base_uri": "https://localhost:8080/"
        },
        "outputId": "c330a172-ad51-4fe2-990f-c1f4bb79f95c"
      },
      "execution_count": 80,
      "outputs": [
        {
          "output_type": "execute_result",
          "data": {
            "text/plain": [
              "array(['None', 'US', 'Other', 'GB', 'AU', 'CA', 'PA', 'IN', 'JP', 'ES'],\n",
              "      dtype=object)"
            ]
          },
          "metadata": {},
          "execution_count": 80
        }
      ]
    },
    {
      "cell_type": "markdown",
      "source": [],
      "metadata": {
        "id": "kzv1K7_9PsVi"
      }
    },
    {
      "cell_type": "markdown",
      "metadata": {
        "id": "F5J3K9MN5i7G"
      },
      "source": [
        "Now since `WHOIS_COUNTRY` has been re-labelled, we don't need `WHOIS_STATEPRO` any more because the values of the states or provinces may not be relevant any more. We'll drop this column.\n",
        "\n",
        "In addition, we will also drop `WHOIS_REGDATE` and `WHOIS_UPDATED_DATE`. These are the registration and update dates of the website domains. Not of our concerns.\n",
        "\n",
        "#### In the next cell, drop `['WHOIS_STATEPRO', 'WHOIS_REGDATE', 'WHOIS_UPDATED_DATE']`."
      ]
    },
    {
      "cell_type": "code",
      "execution_count": 26,
      "metadata": {
        "id": "I8fGDm865i7G"
      },
      "outputs": [],
      "source": [
        "# websites.drop(\"WHOIS_STATEPRO\", axis = 1, inplace = True)\n",
        "# websites.drop(\"WHOIS_REGDATE\", axis = 1, inplace = True)\n",
        "# websites.drop(\"WHOIS_UPDATED_DATE\", axis = 1, inplace = True)\n",
        "\n",
        "# was not sure if i could do all at the same time :/\n",
        "exercise_says_to_drop = ['WHOIS_STATEPRO', 'WHOIS_REGDATE', 'WHOIS_UPDATED_DATE']\n",
        "websites.drop(columns = exercise_says_to_drop, inplace = True)"
      ]
    },
    {
      "cell_type": "markdown",
      "metadata": {
        "id": "45Lmh1sM5i7G"
      },
      "source": [
        "# Challenge 5 - Handle Remaining Categorical Data & Convert to Ordinal\n",
        "\n",
        "Now print the `dtypes` of the data again. Besides `WHOIS_COUNTRY` which we already fixed, there should be 3 categorical columns left: `URL`, `CHARSET`, and `SERVER`."
      ]
    },
    {
      "cell_type": "code",
      "execution_count": null,
      "metadata": {
        "id": "DZ2q7MlQ5i7G"
      },
      "outputs": [],
      "source": [
        "websites.dtypes # right"
      ]
    },
    {
      "cell_type": "markdown",
      "metadata": {
        "id": "c-pk2u005i7H"
      },
      "source": [
        "#### `URL` is easy. We'll simply drop it because it has too many unique values that there's no way for us to consolidate."
      ]
    },
    {
      "cell_type": "code",
      "execution_count": 28,
      "metadata": {
        "id": "g5sAx4-b5i7H"
      },
      "outputs": [],
      "source": [
        "websites.drop(\"URL\", axis = 1, inplace = True) # nice"
      ]
    },
    {
      "cell_type": "markdown",
      "metadata": {
        "id": "VeIspaAI5i7I"
      },
      "source": [
        "#### Print the unique value counts of `CHARSET`. You see there are only a few unique values. So we can keep it as it is."
      ]
    },
    {
      "cell_type": "code",
      "execution_count": 29,
      "metadata": {
        "colab": {
          "base_uri": "https://localhost:8080/"
        },
        "id": "LCteHSuc5i7I",
        "outputId": "892a96b9-5d06-4d64-dc31-a6ab9d61d42e"
      },
      "outputs": [
        {
          "output_type": "stream",
          "name": "stdout",
          "text": [
            "['iso-8859-1' 'UTF-8' 'us-ascii' 'ISO-8859-1' 'utf-8' 'None'\n",
            " 'windows-1251' 'ISO-8859' 'windows-1252']\n"
          ]
        }
      ],
      "source": [
        "print(websites[\"CHARSET\"].unique())"
      ]
    },
    {
      "cell_type": "markdown",
      "metadata": {
        "id": "2lyGZKrj5i7I"
      },
      "source": [
        "`SERVER` is a little more complicated. Print its unique values and think about how you can consolidate those values.\n",
        "\n",
        "#### Before you think of your own solution, don't read the instructions that come next."
      ]
    },
    {
      "cell_type": "code",
      "execution_count": null,
      "metadata": {
        "id": "kK6gTTpq5i7J"
      },
      "outputs": [],
      "source": [
        "print(websites[\"SERVER\"].unique())"
      ]
    },
    {
      "cell_type": "markdown",
      "metadata": {
        "id": "RwC3i1MB5i7J"
      },
      "source": [
        "![Think Hard](../images/think-hard.jpg)"
      ]
    },
    {
      "cell_type": "code",
      "execution_count": 234,
      "metadata": {
        "id": "k1wyDWJb5i7Z"
      },
      "outputs": [],
      "source": [
        "# maybe we can \"categorize\"/group by microsoft, apache, nginx something of that sort, like in top 10 countries."
      ]
    },
    {
      "cell_type": "markdown",
      "metadata": {
        "id": "MHWoms385i7Z"
      },
      "source": [
        "Although there are so many unique values in the `SERVER` column, there are actually only 3 main server types: `Microsoft`, `Apache`, and `nginx`. Just check if each `SERVER` value contains any of those server types and re-label them. For `SERVER` values that don't contain any of those substrings, label with `Other`.\n",
        "\n",
        "At the end, your `SERVER` column should only contain 4 unique values: `Microsoft`, `Apache`, `nginx`, and `Other`."
      ]
    },
    {
      "cell_type": "code",
      "source": [
        "# gonna try\n",
        "\n",
        "def server_function(x):\n",
        "    for server in [\"Microsoft\", \"Apache\", \"nginx\"]:\n",
        "        if server in x:\n",
        "            return server\n",
        "    return \"Other\"\n",
        "\n",
        "websites[\"SERVER\"] = websites[\"SERVER\"].apply(server_function)"
      ],
      "metadata": {
        "id": "W9GXUr9xFzSd"
      },
      "execution_count": 34,
      "outputs": []
    },
    {
      "cell_type": "code",
      "source": [
        "print(\"Server is now categorized in:\\n\")\n",
        "websites[\"SERVER\"].value_counts()"
      ],
      "metadata": {
        "colab": {
          "base_uri": "https://localhost:8080/"
        },
        "id": "wsQcv1o6IHh6",
        "outputId": "4f611386-663e-4f26-c298-2f293c588657"
      },
      "execution_count": 37,
      "outputs": [
        {
          "output_type": "stream",
          "name": "stdout",
          "text": [
            "Server is now categorized in:\n",
            "\n"
          ]
        },
        {
          "output_type": "execute_result",
          "data": {
            "text/plain": [
              "Apache       642\n",
              "Other        504\n",
              "nginx        435\n",
              "Microsoft    198\n",
              "Name: SERVER, dtype: int64"
            ]
          },
          "metadata": {},
          "execution_count": 37
        }
      ]
    },
    {
      "cell_type": "markdown",
      "metadata": {
        "id": "nuZO3SVP5i7a"
      },
      "source": [
        "OK, all our categorical data are fixed now. **Let's convert them to ordinal data using Pandas' `get_dummies` function ([documentation](https://pandas.pydata.org/pandas-docs/stable/generated/pandas.get_dummies.html)). Also, assign the data with dummy values to a new variable `website_dummy`.**"
      ]
    },
    {
      "cell_type": "code",
      "source": [
        "websites.dtypes"
      ],
      "metadata": {
        "id": "G9Wtto3yU5YA"
      },
      "execution_count": null,
      "outputs": []
    },
    {
      "cell_type": "code",
      "execution_count": 256,
      "metadata": {
        "scrolled": false,
        "id": "_nuK1iYo5i7Z"
      },
      "outputs": [],
      "source": [
        "categorical_columns = [\"CHARSET\", \"SERVER\", \"WHOIS_COUNTRY\"]"
      ]
    },
    {
      "cell_type": "code",
      "source": [
        "# (columns = categorical_columns, prefix=None, prefix_sep='_', dummy_na=False, columns=None, sparse=False, drop_first=False, dtype=None)[source]\n",
        "# Probably a more python way to do this, but it is what it is:\n",
        "\n",
        "website_dummy_C = pd.get_dummies(websites[\"CHARSET\"])\n",
        "website_dummy_S = pd.get_dummies(websites[\"SERVER\"])\n",
        "website_dummy_W = pd.get_dummies(websites[\"WHOIS_COUNTRY\"])"
      ],
      "metadata": {
        "id": "AMPoXJpFI4lt"
      },
      "execution_count": 40,
      "outputs": []
    },
    {
      "cell_type": "markdown",
      "metadata": {
        "id": "Xn0BGBin5i7a"
      },
      "source": [
        "Now, inspect `website_dummy` to make sure the data and types are intended - there shouldn't be any categorical columns at this point."
      ]
    },
    {
      "cell_type": "code",
      "execution_count": null,
      "metadata": {
        "id": "R06wAyKo5i7a"
      },
      "outputs": [],
      "source": [
        "website_dummy = pd.concat([website_dummy_C, website_dummy_S, website_dummy_W], axis=1)\n",
        "website_dummy"
      ]
    },
    {
      "cell_type": "code",
      "source": [
        "website_dummy.columns"
      ],
      "metadata": {
        "colab": {
          "base_uri": "https://localhost:8080/"
        },
        "id": "VkoQKKx-RM7x",
        "outputId": "f1a45fa7-31b4-467d-8d39-2586e45724d6"
      },
      "execution_count": 90,
      "outputs": [
        {
          "output_type": "execute_result",
          "data": {
            "text/plain": [
              "Index(['ISO-8859', 'ISO-8859-1', 'None', 'UTF-8', 'iso-8859-1', 'us-ascii',\n",
              "       'utf-8', 'windows-1251', 'windows-1252', 'Apache', 'Microsoft', 'Other',\n",
              "       'nginx', 'AU', 'CA', 'CN', 'ES', 'GB', 'IN', 'JP', 'None', 'Other',\n",
              "       'PA', 'US'],\n",
              "      dtype='object')"
            ]
          },
          "metadata": {},
          "execution_count": 90
        }
      ]
    },
    {
      "cell_type": "markdown",
      "metadata": {
        "id": "pAUnpxBk5i7b"
      },
      "source": [
        "# Challenge 6 - Modeling, Prediction, and Evaluation\n",
        "\n",
        "We'll start off this section by splitting the data to train and test. **Name your 4 variables `X_train`, `X_test`, `y_train`, and `y_test`. Select 80% of the data for training and 20% for testing.**"
      ]
    },
    {
      "cell_type": "code",
      "source": [
        "# now that all features are numeric, lets being training our model\n",
        "from sklearn.model_selection import train_test_split\n",
        "\n",
        "features = website_dummy        #selecting all columns from website_dummy\n",
        "target = websites[\"Type\"]       #selecting \"Type\" as our target variable\n",
        "\n",
        "X_train, X_test, y_train, y_test = train_test_split(features, target, test_size = 0.20, random_state = 0)"
      ],
      "metadata": {
        "id": "lUjLOvt1TnWb"
      },
      "execution_count": 43,
      "outputs": []
    },
    {
      "cell_type": "markdown",
      "metadata": {
        "id": "fwvCs1M35i7b"
      },
      "source": [
        "#### In this lab, we will try two different models and compare our results.\n",
        "\n",
        "The first model we will use in this lab is logistic regression. We have previously learned about logistic regression as a classification algorithm. In the cell below, load `LogisticRegression` from scikit-learn and initialize the model."
      ]
    },
    {
      "cell_type": "code",
      "execution_count": 44,
      "metadata": {
        "id": "wrGd8qwQ5i7b"
      },
      "outputs": [],
      "source": [
        "from sklearn.linear_model import LogisticRegression\n",
        "\n",
        "logistic = LogisticRegression (max_iter = 4000) #used in class the same."
      ]
    },
    {
      "cell_type": "markdown",
      "metadata": {
        "id": "qjIa6sOI5i7c"
      },
      "source": [
        "Next, fit the model to our training data. We have already separated our data into 4 parts. Use those in your model."
      ]
    },
    {
      "cell_type": "code",
      "execution_count": null,
      "metadata": {
        "id": "84vMMfsa5i7c"
      },
      "outputs": [],
      "source": [
        "logistic.fit(X_train, y_train)"
      ]
    },
    {
      "cell_type": "markdown",
      "metadata": {
        "id": "94TC-n3m5i7c"
      },
      "source": [
        "finally, import `confusion_matrix` and `accuracy_score` from `sklearn.metrics` and fit our testing data. Assign the fitted data to `y_pred` and print the confusion matrix as well as the accuracy score"
      ]
    },
    {
      "cell_type": "code",
      "source": [
        "print(\"accuracy_score is:\", logistic.score(X_test, y_test))"
      ],
      "metadata": {
        "id": "Qs775qsBpocg",
        "colab": {
          "base_uri": "https://localhost:8080/"
        },
        "outputId": "d6187e42-5a23-45ac-9488-e990f8b77300"
      },
      "execution_count": 48,
      "outputs": [
        {
          "output_type": "stream",
          "name": "stdout",
          "text": [
            "accuracy_score is: 0.9157303370786517\n"
          ]
        }
      ]
    },
    {
      "cell_type": "code",
      "execution_count": 92,
      "metadata": {
        "id": "88BVygRy5i7d",
        "colab": {
          "base_uri": "https://localhost:8080/"
        },
        "outputId": "ce685f4f-bd38-4397-c5fd-c8c1a91ec853"
      },
      "outputs": [
        {
          "output_type": "stream",
          "name": "stdout",
          "text": [
            "              precision    recall  f1-score   support\n",
            "\n",
            "           0       0.92      1.00      0.95       317\n",
            "           1       0.91      0.26      0.40        39\n",
            "\n",
            "    accuracy                           0.92       356\n",
            "   macro avg       0.91      0.63      0.68       356\n",
            "weighted avg       0.92      0.92      0.89       356\n",
            "\n"
          ]
        }
      ],
      "source": [
        "# confusion_matrix, classification_report\n",
        "from sklearn.metrics import confusion_matrix, classification_report\n",
        "\n",
        "pred = logistic.predict(X_test)\n",
        "print(classification_report(y_test, pred)) #### important this order. true/predict"
      ]
    },
    {
      "cell_type": "markdown",
      "metadata": {
        "id": "5ogiIiWf5i7d"
      },
      "source": [
        "What are your thoughts on the performance of the model? Write your conclusions below."
      ]
    },
    {
      "cell_type": "code",
      "source": [
        "confusion_matrix(y_test, pred)  #### bad recall."
      ],
      "metadata": {
        "colab": {
          "base_uri": "https://localhost:8080/"
        },
        "id": "m3dPCwb-zC-v",
        "outputId": "936a9a97-f50f-4acd-e19d-2a364cca001d"
      },
      "execution_count": 52,
      "outputs": [
        {
          "output_type": "execute_result",
          "data": {
            "text/plain": [
              "array([[316,   1],\n",
              "       [ 29,  10]])"
            ]
          },
          "metadata": {},
          "execution_count": 52
        }
      ]
    },
    {
      "cell_type": "code",
      "source": [
        "from sklearn.metrics import recall_score\n",
        "recall_score(y_test, pred) #### bad recall. something wrong here!!!"
      ],
      "metadata": {
        "colab": {
          "base_uri": "https://localhost:8080/"
        },
        "id": "dreRZc7vzXiU",
        "outputId": "8f6a0ee2-3769-4e0b-86a8-44987d1b732f"
      },
      "execution_count": 53,
      "outputs": [
        {
          "output_type": "execute_result",
          "data": {
            "text/plain": [
              "0.2564102564102564"
            ]
          },
          "metadata": {},
          "execution_count": 53
        }
      ]
    },
    {
      "cell_type": "markdown",
      "metadata": {
        "id": "J-A5UIgM5i7d"
      },
      "source": [
        "#### Our second algorithm is is K-Nearest Neighbors.\n",
        "\n",
        "Though is it not required, we will fit a model using the training data and then test the performance of the model using the testing data. Start by loading `KNeighborsClassifier` from scikit-learn and then initializing and fitting the model. We'll start off with a model where k=3."
      ]
    },
    {
      "cell_type": "code",
      "execution_count": 93,
      "metadata": {
        "id": "IAL0eSi95i7e",
        "colab": {
          "base_uri": "https://localhost:8080/",
          "height": 74
        },
        "outputId": "939b2f69-17e3-4ab9-9b6a-ba542436cd48"
      },
      "outputs": [
        {
          "output_type": "execute_result",
          "data": {
            "text/plain": [
              "KNeighborsClassifier(n_neighbors=3)"
            ],
            "text/html": [
              "<style>#sk-container-id-5 {color: black;background-color: white;}#sk-container-id-5 pre{padding: 0;}#sk-container-id-5 div.sk-toggleable {background-color: white;}#sk-container-id-5 label.sk-toggleable__label {cursor: pointer;display: block;width: 100%;margin-bottom: 0;padding: 0.3em;box-sizing: border-box;text-align: center;}#sk-container-id-5 label.sk-toggleable__label-arrow:before {content: \"▸\";float: left;margin-right: 0.25em;color: #696969;}#sk-container-id-5 label.sk-toggleable__label-arrow:hover:before {color: black;}#sk-container-id-5 div.sk-estimator:hover label.sk-toggleable__label-arrow:before {color: black;}#sk-container-id-5 div.sk-toggleable__content {max-height: 0;max-width: 0;overflow: hidden;text-align: left;background-color: #f0f8ff;}#sk-container-id-5 div.sk-toggleable__content pre {margin: 0.2em;color: black;border-radius: 0.25em;background-color: #f0f8ff;}#sk-container-id-5 input.sk-toggleable__control:checked~div.sk-toggleable__content {max-height: 200px;max-width: 100%;overflow: auto;}#sk-container-id-5 input.sk-toggleable__control:checked~label.sk-toggleable__label-arrow:before {content: \"▾\";}#sk-container-id-5 div.sk-estimator input.sk-toggleable__control:checked~label.sk-toggleable__label {background-color: #d4ebff;}#sk-container-id-5 div.sk-label input.sk-toggleable__control:checked~label.sk-toggleable__label {background-color: #d4ebff;}#sk-container-id-5 input.sk-hidden--visually {border: 0;clip: rect(1px 1px 1px 1px);clip: rect(1px, 1px, 1px, 1px);height: 1px;margin: -1px;overflow: hidden;padding: 0;position: absolute;width: 1px;}#sk-container-id-5 div.sk-estimator {font-family: monospace;background-color: #f0f8ff;border: 1px dotted black;border-radius: 0.25em;box-sizing: border-box;margin-bottom: 0.5em;}#sk-container-id-5 div.sk-estimator:hover {background-color: #d4ebff;}#sk-container-id-5 div.sk-parallel-item::after {content: \"\";width: 100%;border-bottom: 1px solid gray;flex-grow: 1;}#sk-container-id-5 div.sk-label:hover label.sk-toggleable__label {background-color: #d4ebff;}#sk-container-id-5 div.sk-serial::before {content: \"\";position: absolute;border-left: 1px solid gray;box-sizing: border-box;top: 0;bottom: 0;left: 50%;z-index: 0;}#sk-container-id-5 div.sk-serial {display: flex;flex-direction: column;align-items: center;background-color: white;padding-right: 0.2em;padding-left: 0.2em;position: relative;}#sk-container-id-5 div.sk-item {position: relative;z-index: 1;}#sk-container-id-5 div.sk-parallel {display: flex;align-items: stretch;justify-content: center;background-color: white;position: relative;}#sk-container-id-5 div.sk-item::before, #sk-container-id-5 div.sk-parallel-item::before {content: \"\";position: absolute;border-left: 1px solid gray;box-sizing: border-box;top: 0;bottom: 0;left: 50%;z-index: -1;}#sk-container-id-5 div.sk-parallel-item {display: flex;flex-direction: column;z-index: 1;position: relative;background-color: white;}#sk-container-id-5 div.sk-parallel-item:first-child::after {align-self: flex-end;width: 50%;}#sk-container-id-5 div.sk-parallel-item:last-child::after {align-self: flex-start;width: 50%;}#sk-container-id-5 div.sk-parallel-item:only-child::after {width: 0;}#sk-container-id-5 div.sk-dashed-wrapped {border: 1px dashed gray;margin: 0 0.4em 0.5em 0.4em;box-sizing: border-box;padding-bottom: 0.4em;background-color: white;}#sk-container-id-5 div.sk-label label {font-family: monospace;font-weight: bold;display: inline-block;line-height: 1.2em;}#sk-container-id-5 div.sk-label-container {text-align: center;}#sk-container-id-5 div.sk-container {/* jupyter's `normalize.less` sets `[hidden] { display: none; }` but bootstrap.min.css set `[hidden] { display: none !important; }` so we also need the `!important` here to be able to override the default hidden behavior on the sphinx rendered scikit-learn.org. See: https://github.com/scikit-learn/scikit-learn/issues/21755 */display: inline-block !important;position: relative;}#sk-container-id-5 div.sk-text-repr-fallback {display: none;}</style><div id=\"sk-container-id-5\" class=\"sk-top-container\"><div class=\"sk-text-repr-fallback\"><pre>KNeighborsClassifier(n_neighbors=3)</pre><b>In a Jupyter environment, please rerun this cell to show the HTML representation or trust the notebook. <br />On GitHub, the HTML representation is unable to render, please try loading this page with nbviewer.org.</b></div><div class=\"sk-container\" hidden><div class=\"sk-item\"><div class=\"sk-estimator sk-toggleable\"><input class=\"sk-toggleable__control sk-hidden--visually\" id=\"sk-estimator-id-5\" type=\"checkbox\" checked><label for=\"sk-estimator-id-5\" class=\"sk-toggleable__label sk-toggleable__label-arrow\">KNeighborsClassifier</label><div class=\"sk-toggleable__content\"><pre>KNeighborsClassifier(n_neighbors=3)</pre></div></div></div></div></div>"
            ]
          },
          "metadata": {},
          "execution_count": 93
        }
      ],
      "source": [
        "from sklearn.neighbors import KNeighborsClassifier\n",
        "\n",
        "#create an instance of our model\n",
        "knn_3 = KNeighborsClassifier(n_neighbors = 3)\n",
        "\n",
        "#training the model to our data\n",
        "knn_3.fit(X_train, y_train)"
      ]
    },
    {
      "cell_type": "markdown",
      "metadata": {
        "id": "R97jiK5-5i7e"
      },
      "source": [
        "To test your model, compute the predicted values for the testing sample and print the confusion matrix as well as the accuracy score."
      ]
    },
    {
      "cell_type": "code",
      "execution_count": 94,
      "metadata": {
        "id": "FvOaVsqu5i7e",
        "colab": {
          "base_uri": "https://localhost:8080/"
        },
        "outputId": "c5b57de9-48f1-4315-cf18-c14b609c7db0"
      },
      "outputs": [
        {
          "output_type": "stream",
          "name": "stdout",
          "text": [
            "accuracy score is 0.8595505617977528\n"
          ]
        },
        {
          "output_type": "execute_result",
          "data": {
            "text/plain": [
              "array([[316,   1],\n",
              "       [ 29,  10]])"
            ]
          },
          "metadata": {},
          "execution_count": 94
        }
      ],
      "source": [
        "#evaluate it\n",
        "print(\"accuracy score is\", knn_3.score(X_test, y_test))\n",
        "# confusion matrix knn\n",
        "confusion_matrix(y_test, pred)"
      ]
    },
    {
      "cell_type": "code",
      "source": [
        "# true negative   false positive\n",
        "# false negative  true positive"
      ],
      "metadata": {
        "id": "2QApX8Mt62ej"
      },
      "execution_count": 64,
      "outputs": []
    },
    {
      "cell_type": "markdown",
      "metadata": {
        "id": "ly6W4PiF5i7e"
      },
      "source": [
        "#### We'll create another K-Nearest Neighbors model with k=5.\n",
        "\n",
        "Initialize and fit the model below and print the confusion matrix and the accuracy score."
      ]
    },
    {
      "cell_type": "code",
      "execution_count": 95,
      "metadata": {
        "id": "wT_druEw5i7f",
        "colab": {
          "base_uri": "https://localhost:8080/"
        },
        "outputId": "c9b3e182-0317-4233-d262-54c0b435d32a"
      },
      "outputs": [
        {
          "output_type": "stream",
          "name": "stdout",
          "text": [
            "accuracy score is 0.9101123595505618\n",
            "[[316   1]\n",
            " [ 29  10]]\n"
          ]
        }
      ],
      "source": [
        "#create an instance of our model\n",
        "knn_5 = KNeighborsClassifier(n_neighbors = 5)\n",
        "\n",
        "#training the model to our data\n",
        "knn_5.fit(X_train, y_train)\n",
        "print(\"accuracy score is\", knn_5.score(X_test, y_test))\n",
        "# confusion matrix knn = 5 n\n",
        "print(confusion_matrix(y_test, pred))"
      ]
    },
    {
      "cell_type": "code",
      "source": [
        "# true negative   false positive\n",
        "# false negative  true positive"
      ],
      "metadata": {
        "id": "s3Q2zzixb_V-"
      },
      "execution_count": null,
      "outputs": []
    },
    {
      "cell_type": "markdown",
      "metadata": {
        "id": "mPay2G8Q5i7f"
      },
      "source": [
        "Did you see an improvement in the confusion matrix when increasing k to 5? Did you see an improvement in the accuracy score? Write your conclusions below."
      ]
    },
    {
      "cell_type": "code",
      "execution_count": 96,
      "metadata": {
        "id": "0NXYrytS5i7f",
        "colab": {
          "base_uri": "https://localhost:8080/"
        },
        "outputId": "6bd914e8-f09f-4be8-ba52-d613f81b96a4"
      },
      "outputs": [
        {
          "output_type": "stream",
          "name": "stdout",
          "text": [
            "accuracy score for knn = 3 is 0.8595505617977528 \n",
            "while confusion matrix is:\n",
            "[[316   1]\n",
            " [ 29  10]] \n",
            "\n",
            "accuracy score for knn = 5 is 0.9101123595505618 \n",
            "while confusion matrix is:\n",
            "[[316   1]\n",
            " [ 29  10]]\n"
          ]
        }
      ],
      "source": [
        "print(\"accuracy score for knn = 3 is\", knn_3.score(X_test, y_test), \"\\nwhile confusion matrix is:\")\n",
        "print(confusion_matrix(y_test, pred),\"\\n\")\n",
        "print(\"accuracy score for knn = 5 is\", knn_5.score(X_test, y_test),\"\\nwhile confusion matrix is:\")\n",
        "print(confusion_matrix(y_test, pred))\n"
      ]
    },
    {
      "cell_type": "code",
      "source": [
        "# so it's funny how the accucary score got a little better, but the confusion matrix remains the same."
      ],
      "metadata": {
        "id": "vzfplagxd2dO"
      },
      "execution_count": null,
      "outputs": []
    },
    {
      "cell_type": "markdown",
      "metadata": {
        "id": "EORJ15IZ5i7f"
      },
      "source": [
        "# Bonus Challenge - Feature Scaling\n",
        "\n",
        "Problem-solving in machine learning is iterative. You can improve your model prediction with various techniques (there is a sweetspot for the time you spend and the improvement you receive though). Now you've completed only one iteration of ML analysis. There are more iterations you can conduct to make improvements. In order to be able to do that, you will need deeper knowledge in statistics and master more data analysis techniques. In this bootcamp, we don't have time to achieve that advanced goal. But you will make constant efforts after the bootcamp to eventually get there.\n",
        "\n",
        "However, now we do want you to learn one of the advanced techniques which is called *feature scaling*. The idea of feature scaling is to standardize/normalize the range of independent variables or features of the data. This can make the outliers more apparent so that you can remove them. This step needs to happen during Challenge 6 after you split the training and test data because you don't want to split the data again which makes it impossible to compare your results with and without feature scaling. For general concepts about feature scaling, click [here](https://en.wikipedia.org/wiki/Feature_scaling). To read deeper, click [here](https://medium.com/greyatom/why-how-and-when-to-scale-your-features-4b30ab09db5e).\n",
        "\n",
        "In the next cell, attempt to improve your model prediction accuracy by means of feature scaling. A library you can utilize is `sklearn.preprocessing.RobustScaler` ([documentation](https://scikit-learn.org/stable/modules/generated/sklearn.preprocessing.RobustScaler.html)). You'll use the `RobustScaler` to fit and transform your `X_train`, then transform `X_test`. You will use logistic regression to fit and predict your transformed data and obtain the accuracy score in the same way. Compare the accuracy score with your normalized data with the previous accuracy data. Is there an improvement?"
      ]
    },
    {
      "cell_type": "code",
      "execution_count": null,
      "metadata": {
        "id": "pakhj8c25i7f"
      },
      "outputs": [],
      "source": [
        "# Your code here"
      ]
    }
  ],
  "metadata": {
    "kernelspec": {
      "display_name": "ironhack-3.7",
      "language": "python",
      "name": "ironhack-3.7"
    },
    "language_info": {
      "codemirror_mode": {
        "name": "ipython",
        "version": 3
      },
      "file_extension": ".py",
      "mimetype": "text/x-python",
      "name": "python",
      "nbconvert_exporter": "python",
      "pygments_lexer": "ipython3",
      "version": "3.7.3"
    },
    "colab": {
      "provenance": []
    }
  },
  "nbformat": 4,
  "nbformat_minor": 0
}