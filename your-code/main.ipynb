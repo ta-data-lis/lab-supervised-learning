{
 "cells": [
  {
   "cell_type": "markdown",
   "metadata": {},
   "source": [
    "# Before your start:\n",
    "- Read the README.md file\n",
    "- Comment as much as you can and use the resources in the README.md file\n",
    "- Happy learning!"
   ]
  },
  {
   "cell_type": "code",
   "execution_count": 1,
   "metadata": {},
   "outputs": [],
   "source": [
    "# Import your libraries:\n",
    "\n",
    "%matplotlib inline\n",
    "\n",
    "import numpy as np\n",
    "import pandas as pd"
   ]
  },
  {
   "cell_type": "markdown",
   "metadata": {},
   "source": [
    "In this lab, we will explore a dataset that describes websites with different features and labels them either benign or malicious . We will use supervised learning algorithms to figure out what feature patterns malicious websites are likely to have and use our model to predict malicious websites.\n",
    "\n",
    "# Challenge 1 - Explore The Dataset\n",
    "\n",
    "Let's start by exploring the dataset. First load the data file:"
   ]
  },
  {
   "cell_type": "code",
   "execution_count": 2,
   "metadata": {},
   "outputs": [],
   "source": [
    "websites = pd.read_csv('website.csv')"
   ]
  },
  {
   "cell_type": "markdown",
   "metadata": {},
   "source": [
    "#### Explore the data from an bird's-eye view.\n",
    "\n",
    "You should already been very familiar with the procedures now so we won't provide the instructions step by step. Reflect on what you did in the previous labs and explore the dataset.\n",
    "\n",
    "Things you'll be looking for:\n",
    "\n",
    "* What the dataset looks like?\n",
    "* What are the data types?\n",
    "* Which columns contain the features of the websites?\n",
    "* Which column contains the feature we will predict? What is the code standing for benign vs malicious websites?\n",
    "* Do we need to transform any of the columns from categorical to ordinal values? If so what are these columns?\n",
    "\n",
    "Feel free to add additional cells for your explorations. Make sure to comment what you find out."
   ]
  },
  {
   "cell_type": "code",
   "execution_count": 3,
   "metadata": {},
   "outputs": [
    {
     "data": {
      "text/html": [
       "<div>\n",
       "<style scoped>\n",
       "    .dataframe tbody tr th:only-of-type {\n",
       "        vertical-align: middle;\n",
       "    }\n",
       "\n",
       "    .dataframe tbody tr th {\n",
       "        vertical-align: top;\n",
       "    }\n",
       "\n",
       "    .dataframe thead th {\n",
       "        text-align: right;\n",
       "    }\n",
       "</style>\n",
       "<table border=\"1\" class=\"dataframe\">\n",
       "  <thead>\n",
       "    <tr style=\"text-align: right;\">\n",
       "      <th></th>\n",
       "      <th>URL</th>\n",
       "      <th>URL_LENGTH</th>\n",
       "      <th>NUMBER_SPECIAL_CHARACTERS</th>\n",
       "      <th>CHARSET</th>\n",
       "      <th>SERVER</th>\n",
       "      <th>CONTENT_LENGTH</th>\n",
       "      <th>WHOIS_COUNTRY</th>\n",
       "      <th>WHOIS_STATEPRO</th>\n",
       "      <th>WHOIS_REGDATE</th>\n",
       "      <th>WHOIS_UPDATED_DATE</th>\n",
       "      <th>...</th>\n",
       "      <th>DIST_REMOTE_TCP_PORT</th>\n",
       "      <th>REMOTE_IPS</th>\n",
       "      <th>APP_BYTES</th>\n",
       "      <th>SOURCE_APP_PACKETS</th>\n",
       "      <th>REMOTE_APP_PACKETS</th>\n",
       "      <th>SOURCE_APP_BYTES</th>\n",
       "      <th>REMOTE_APP_BYTES</th>\n",
       "      <th>APP_PACKETS</th>\n",
       "      <th>DNS_QUERY_TIMES</th>\n",
       "      <th>Type</th>\n",
       "    </tr>\n",
       "  </thead>\n",
       "  <tbody>\n",
       "    <tr>\n",
       "      <th>0</th>\n",
       "      <td>M0_109</td>\n",
       "      <td>16</td>\n",
       "      <td>7</td>\n",
       "      <td>iso-8859-1</td>\n",
       "      <td>nginx</td>\n",
       "      <td>263.0</td>\n",
       "      <td>None</td>\n",
       "      <td>None</td>\n",
       "      <td>10/10/2015 18:21</td>\n",
       "      <td>None</td>\n",
       "      <td>...</td>\n",
       "      <td>0</td>\n",
       "      <td>2</td>\n",
       "      <td>700</td>\n",
       "      <td>9</td>\n",
       "      <td>10</td>\n",
       "      <td>1153</td>\n",
       "      <td>832</td>\n",
       "      <td>9</td>\n",
       "      <td>2.0</td>\n",
       "      <td>1</td>\n",
       "    </tr>\n",
       "    <tr>\n",
       "      <th>1</th>\n",
       "      <td>B0_2314</td>\n",
       "      <td>16</td>\n",
       "      <td>6</td>\n",
       "      <td>UTF-8</td>\n",
       "      <td>Apache/2.4.10</td>\n",
       "      <td>15087.0</td>\n",
       "      <td>None</td>\n",
       "      <td>None</td>\n",
       "      <td>None</td>\n",
       "      <td>None</td>\n",
       "      <td>...</td>\n",
       "      <td>7</td>\n",
       "      <td>4</td>\n",
       "      <td>1230</td>\n",
       "      <td>17</td>\n",
       "      <td>19</td>\n",
       "      <td>1265</td>\n",
       "      <td>1230</td>\n",
       "      <td>17</td>\n",
       "      <td>0.0</td>\n",
       "      <td>0</td>\n",
       "    </tr>\n",
       "    <tr>\n",
       "      <th>2</th>\n",
       "      <td>B0_911</td>\n",
       "      <td>16</td>\n",
       "      <td>6</td>\n",
       "      <td>us-ascii</td>\n",
       "      <td>Microsoft-HTTPAPI/2.0</td>\n",
       "      <td>324.0</td>\n",
       "      <td>None</td>\n",
       "      <td>None</td>\n",
       "      <td>None</td>\n",
       "      <td>None</td>\n",
       "      <td>...</td>\n",
       "      <td>0</td>\n",
       "      <td>0</td>\n",
       "      <td>0</td>\n",
       "      <td>0</td>\n",
       "      <td>0</td>\n",
       "      <td>0</td>\n",
       "      <td>0</td>\n",
       "      <td>0</td>\n",
       "      <td>0.0</td>\n",
       "      <td>0</td>\n",
       "    </tr>\n",
       "    <tr>\n",
       "      <th>3</th>\n",
       "      <td>B0_113</td>\n",
       "      <td>17</td>\n",
       "      <td>6</td>\n",
       "      <td>ISO-8859-1</td>\n",
       "      <td>nginx</td>\n",
       "      <td>162.0</td>\n",
       "      <td>US</td>\n",
       "      <td>AK</td>\n",
       "      <td>7/10/1997 4:00</td>\n",
       "      <td>12/09/2013 0:45</td>\n",
       "      <td>...</td>\n",
       "      <td>22</td>\n",
       "      <td>3</td>\n",
       "      <td>3812</td>\n",
       "      <td>39</td>\n",
       "      <td>37</td>\n",
       "      <td>18784</td>\n",
       "      <td>4380</td>\n",
       "      <td>39</td>\n",
       "      <td>8.0</td>\n",
       "      <td>0</td>\n",
       "    </tr>\n",
       "    <tr>\n",
       "      <th>4</th>\n",
       "      <td>B0_403</td>\n",
       "      <td>17</td>\n",
       "      <td>6</td>\n",
       "      <td>UTF-8</td>\n",
       "      <td>None</td>\n",
       "      <td>124140.0</td>\n",
       "      <td>US</td>\n",
       "      <td>TX</td>\n",
       "      <td>12/05/1996 0:00</td>\n",
       "      <td>11/04/2017 0:00</td>\n",
       "      <td>...</td>\n",
       "      <td>2</td>\n",
       "      <td>5</td>\n",
       "      <td>4278</td>\n",
       "      <td>61</td>\n",
       "      <td>62</td>\n",
       "      <td>129889</td>\n",
       "      <td>4586</td>\n",
       "      <td>61</td>\n",
       "      <td>4.0</td>\n",
       "      <td>0</td>\n",
       "    </tr>\n",
       "  </tbody>\n",
       "</table>\n",
       "<p>5 rows × 21 columns</p>\n",
       "</div>"
      ],
      "text/plain": [
       "       URL  URL_LENGTH  NUMBER_SPECIAL_CHARACTERS     CHARSET  \\\n",
       "0   M0_109          16                          7  iso-8859-1   \n",
       "1  B0_2314          16                          6       UTF-8   \n",
       "2   B0_911          16                          6    us-ascii   \n",
       "3   B0_113          17                          6  ISO-8859-1   \n",
       "4   B0_403          17                          6       UTF-8   \n",
       "\n",
       "                  SERVER  CONTENT_LENGTH WHOIS_COUNTRY WHOIS_STATEPRO  \\\n",
       "0                  nginx           263.0          None           None   \n",
       "1          Apache/2.4.10         15087.0          None           None   \n",
       "2  Microsoft-HTTPAPI/2.0           324.0          None           None   \n",
       "3                  nginx           162.0            US             AK   \n",
       "4                   None        124140.0            US             TX   \n",
       "\n",
       "      WHOIS_REGDATE WHOIS_UPDATED_DATE  ...  DIST_REMOTE_TCP_PORT  REMOTE_IPS  \\\n",
       "0  10/10/2015 18:21               None  ...                     0           2   \n",
       "1              None               None  ...                     7           4   \n",
       "2              None               None  ...                     0           0   \n",
       "3    7/10/1997 4:00    12/09/2013 0:45  ...                    22           3   \n",
       "4   12/05/1996 0:00    11/04/2017 0:00  ...                     2           5   \n",
       "\n",
       "   APP_BYTES  SOURCE_APP_PACKETS  REMOTE_APP_PACKETS  SOURCE_APP_BYTES  \\\n",
       "0        700                   9                  10              1153   \n",
       "1       1230                  17                  19              1265   \n",
       "2          0                   0                   0                 0   \n",
       "3       3812                  39                  37             18784   \n",
       "4       4278                  61                  62            129889   \n",
       "\n",
       "   REMOTE_APP_BYTES  APP_PACKETS  DNS_QUERY_TIMES  Type  \n",
       "0               832            9              2.0     1  \n",
       "1              1230           17              0.0     0  \n",
       "2                 0            0              0.0     0  \n",
       "3              4380           39              8.0     0  \n",
       "4              4586           61              4.0     0  \n",
       "\n",
       "[5 rows x 21 columns]"
      ]
     },
     "execution_count": 3,
     "metadata": {},
     "output_type": "execute_result"
    }
   ],
   "source": [
    "# Your code here\n",
    "websites.head()"
   ]
  },
  {
   "cell_type": "code",
   "execution_count": 4,
   "metadata": {},
   "outputs": [
    {
     "data": {
      "text/html": [
       "<div>\n",
       "<style scoped>\n",
       "    .dataframe tbody tr th:only-of-type {\n",
       "        vertical-align: middle;\n",
       "    }\n",
       "\n",
       "    .dataframe tbody tr th {\n",
       "        vertical-align: top;\n",
       "    }\n",
       "\n",
       "    .dataframe thead th {\n",
       "        text-align: right;\n",
       "    }\n",
       "</style>\n",
       "<table border=\"1\" class=\"dataframe\">\n",
       "  <thead>\n",
       "    <tr style=\"text-align: right;\">\n",
       "      <th></th>\n",
       "      <th>URL_LENGTH</th>\n",
       "      <th>NUMBER_SPECIAL_CHARACTERS</th>\n",
       "      <th>CONTENT_LENGTH</th>\n",
       "      <th>TCP_CONVERSATION_EXCHANGE</th>\n",
       "      <th>DIST_REMOTE_TCP_PORT</th>\n",
       "      <th>REMOTE_IPS</th>\n",
       "      <th>APP_BYTES</th>\n",
       "      <th>SOURCE_APP_PACKETS</th>\n",
       "      <th>REMOTE_APP_PACKETS</th>\n",
       "      <th>SOURCE_APP_BYTES</th>\n",
       "      <th>REMOTE_APP_BYTES</th>\n",
       "      <th>APP_PACKETS</th>\n",
       "      <th>DNS_QUERY_TIMES</th>\n",
       "      <th>Type</th>\n",
       "    </tr>\n",
       "  </thead>\n",
       "  <tbody>\n",
       "    <tr>\n",
       "      <th>count</th>\n",
       "      <td>1781.000000</td>\n",
       "      <td>1781.000000</td>\n",
       "      <td>969.000000</td>\n",
       "      <td>1781.000000</td>\n",
       "      <td>1781.000000</td>\n",
       "      <td>1781.000000</td>\n",
       "      <td>1.781000e+03</td>\n",
       "      <td>1781.000000</td>\n",
       "      <td>1781.000000</td>\n",
       "      <td>1.781000e+03</td>\n",
       "      <td>1.781000e+03</td>\n",
       "      <td>1781.000000</td>\n",
       "      <td>1780.000000</td>\n",
       "      <td>1781.000000</td>\n",
       "    </tr>\n",
       "    <tr>\n",
       "      <th>mean</th>\n",
       "      <td>56.961258</td>\n",
       "      <td>11.111735</td>\n",
       "      <td>11726.927761</td>\n",
       "      <td>16.261089</td>\n",
       "      <td>5.472768</td>\n",
       "      <td>3.060640</td>\n",
       "      <td>2.982339e+03</td>\n",
       "      <td>18.540146</td>\n",
       "      <td>18.746210</td>\n",
       "      <td>1.589255e+04</td>\n",
       "      <td>3.155599e+03</td>\n",
       "      <td>18.540146</td>\n",
       "      <td>2.263483</td>\n",
       "      <td>0.121280</td>\n",
       "    </tr>\n",
       "    <tr>\n",
       "      <th>std</th>\n",
       "      <td>27.555586</td>\n",
       "      <td>4.549896</td>\n",
       "      <td>36391.809051</td>\n",
       "      <td>40.500975</td>\n",
       "      <td>21.807327</td>\n",
       "      <td>3.386975</td>\n",
       "      <td>5.605057e+04</td>\n",
       "      <td>41.627173</td>\n",
       "      <td>46.397969</td>\n",
       "      <td>6.986193e+04</td>\n",
       "      <td>5.605378e+04</td>\n",
       "      <td>41.627173</td>\n",
       "      <td>2.930853</td>\n",
       "      <td>0.326544</td>\n",
       "    </tr>\n",
       "    <tr>\n",
       "      <th>min</th>\n",
       "      <td>16.000000</td>\n",
       "      <td>5.000000</td>\n",
       "      <td>0.000000</td>\n",
       "      <td>0.000000</td>\n",
       "      <td>0.000000</td>\n",
       "      <td>0.000000</td>\n",
       "      <td>0.000000e+00</td>\n",
       "      <td>0.000000</td>\n",
       "      <td>0.000000</td>\n",
       "      <td>0.000000e+00</td>\n",
       "      <td>0.000000e+00</td>\n",
       "      <td>0.000000</td>\n",
       "      <td>0.000000</td>\n",
       "      <td>0.000000</td>\n",
       "    </tr>\n",
       "    <tr>\n",
       "      <th>25%</th>\n",
       "      <td>39.000000</td>\n",
       "      <td>8.000000</td>\n",
       "      <td>324.000000</td>\n",
       "      <td>0.000000</td>\n",
       "      <td>0.000000</td>\n",
       "      <td>0.000000</td>\n",
       "      <td>0.000000e+00</td>\n",
       "      <td>0.000000</td>\n",
       "      <td>0.000000</td>\n",
       "      <td>0.000000e+00</td>\n",
       "      <td>0.000000e+00</td>\n",
       "      <td>0.000000</td>\n",
       "      <td>0.000000</td>\n",
       "      <td>0.000000</td>\n",
       "    </tr>\n",
       "    <tr>\n",
       "      <th>50%</th>\n",
       "      <td>49.000000</td>\n",
       "      <td>10.000000</td>\n",
       "      <td>1853.000000</td>\n",
       "      <td>7.000000</td>\n",
       "      <td>0.000000</td>\n",
       "      <td>2.000000</td>\n",
       "      <td>6.720000e+02</td>\n",
       "      <td>8.000000</td>\n",
       "      <td>9.000000</td>\n",
       "      <td>5.790000e+02</td>\n",
       "      <td>7.350000e+02</td>\n",
       "      <td>8.000000</td>\n",
       "      <td>0.000000</td>\n",
       "      <td>0.000000</td>\n",
       "    </tr>\n",
       "    <tr>\n",
       "      <th>75%</th>\n",
       "      <td>68.000000</td>\n",
       "      <td>13.000000</td>\n",
       "      <td>11323.000000</td>\n",
       "      <td>22.000000</td>\n",
       "      <td>5.000000</td>\n",
       "      <td>5.000000</td>\n",
       "      <td>2.328000e+03</td>\n",
       "      <td>26.000000</td>\n",
       "      <td>25.000000</td>\n",
       "      <td>9.806000e+03</td>\n",
       "      <td>2.701000e+03</td>\n",
       "      <td>26.000000</td>\n",
       "      <td>4.000000</td>\n",
       "      <td>0.000000</td>\n",
       "    </tr>\n",
       "    <tr>\n",
       "      <th>max</th>\n",
       "      <td>249.000000</td>\n",
       "      <td>43.000000</td>\n",
       "      <td>649263.000000</td>\n",
       "      <td>1194.000000</td>\n",
       "      <td>708.000000</td>\n",
       "      <td>17.000000</td>\n",
       "      <td>2.362906e+06</td>\n",
       "      <td>1198.000000</td>\n",
       "      <td>1284.000000</td>\n",
       "      <td>2.060012e+06</td>\n",
       "      <td>2.362906e+06</td>\n",
       "      <td>1198.000000</td>\n",
       "      <td>20.000000</td>\n",
       "      <td>1.000000</td>\n",
       "    </tr>\n",
       "  </tbody>\n",
       "</table>\n",
       "</div>"
      ],
      "text/plain": [
       "        URL_LENGTH  NUMBER_SPECIAL_CHARACTERS  CONTENT_LENGTH  \\\n",
       "count  1781.000000                1781.000000      969.000000   \n",
       "mean     56.961258                  11.111735    11726.927761   \n",
       "std      27.555586                   4.549896    36391.809051   \n",
       "min      16.000000                   5.000000        0.000000   \n",
       "25%      39.000000                   8.000000      324.000000   \n",
       "50%      49.000000                  10.000000     1853.000000   \n",
       "75%      68.000000                  13.000000    11323.000000   \n",
       "max     249.000000                  43.000000   649263.000000   \n",
       "\n",
       "       TCP_CONVERSATION_EXCHANGE  DIST_REMOTE_TCP_PORT   REMOTE_IPS  \\\n",
       "count                1781.000000           1781.000000  1781.000000   \n",
       "mean                   16.261089              5.472768     3.060640   \n",
       "std                    40.500975             21.807327     3.386975   \n",
       "min                     0.000000              0.000000     0.000000   \n",
       "25%                     0.000000              0.000000     0.000000   \n",
       "50%                     7.000000              0.000000     2.000000   \n",
       "75%                    22.000000              5.000000     5.000000   \n",
       "max                  1194.000000            708.000000    17.000000   \n",
       "\n",
       "          APP_BYTES  SOURCE_APP_PACKETS  REMOTE_APP_PACKETS  SOURCE_APP_BYTES  \\\n",
       "count  1.781000e+03         1781.000000         1781.000000      1.781000e+03   \n",
       "mean   2.982339e+03           18.540146           18.746210      1.589255e+04   \n",
       "std    5.605057e+04           41.627173           46.397969      6.986193e+04   \n",
       "min    0.000000e+00            0.000000            0.000000      0.000000e+00   \n",
       "25%    0.000000e+00            0.000000            0.000000      0.000000e+00   \n",
       "50%    6.720000e+02            8.000000            9.000000      5.790000e+02   \n",
       "75%    2.328000e+03           26.000000           25.000000      9.806000e+03   \n",
       "max    2.362906e+06         1198.000000         1284.000000      2.060012e+06   \n",
       "\n",
       "       REMOTE_APP_BYTES  APP_PACKETS  DNS_QUERY_TIMES         Type  \n",
       "count      1.781000e+03  1781.000000      1780.000000  1781.000000  \n",
       "mean       3.155599e+03    18.540146         2.263483     0.121280  \n",
       "std        5.605378e+04    41.627173         2.930853     0.326544  \n",
       "min        0.000000e+00     0.000000         0.000000     0.000000  \n",
       "25%        0.000000e+00     0.000000         0.000000     0.000000  \n",
       "50%        7.350000e+02     8.000000         0.000000     0.000000  \n",
       "75%        2.701000e+03    26.000000         4.000000     0.000000  \n",
       "max        2.362906e+06  1198.000000        20.000000     1.000000  "
      ]
     },
     "execution_count": 4,
     "metadata": {},
     "output_type": "execute_result"
    }
   ],
   "source": [
    "# Your comment here\n",
    "websites.describe()"
   ]
  },
  {
   "cell_type": "markdown",
   "metadata": {},
   "source": [
    "#### Next, evaluate if the columns in this dataset are strongly correlated.\n",
    "\n",
    "If our dataset has strongly correlated columns, we need to choose certain ML algorithms instead of others. We need to evaluate this for our dataset now.\n",
    "\n",
    "Luckily, most of the columns in this dataset are ordinal which makes things a lot easier for us. In the next cells below, evaluate the level of collinearity of the data.\n",
    "\n",
    "We provide some general directions for you to consult in order to complete this step:\n",
    "\n",
    "1. You will create a correlation matrix using the numeric columns in the dataset.\n",
    "\n",
    "1. Create a heatmap using `seaborn` to visualize which columns have high collinearity.\n",
    "\n",
    "1. Comment on which columns you might need to remove due to high collinearity."
   ]
  },
  {
   "cell_type": "code",
   "execution_count": 5,
   "metadata": {},
   "outputs": [
    {
     "name": "stderr",
     "output_type": "stream",
     "text": [
      "<ipython-input-5-55d924c47421>:8: DeprecationWarning: `np.bool` is a deprecated alias for the builtin `bool`. To silence this warning, use `bool` by itself. Doing this will not modify any behavior and is safe. If you specifically wanted the numpy scalar type, use `np.bool_` here.\n",
      "Deprecated in NumPy 1.20; for more details and guidance: https://numpy.org/devdocs/release/1.20.0-notes.html#deprecations\n",
      "  mask = np.zeros_like(corr, dtype=np.bool)\n"
     ]
    },
    {
     "data": {
      "image/png": "[encoded data removed]",
      "text/plain": [
       "<Figure size 1008x1008 with 2 Axes>"
      ]
     },
     "metadata": {
      "needs_background": "light"
     },
     "output_type": "display_data"
    }
   ],
   "source": [
    "# Your code here\n",
    "import matplotlib.pyplot as plt\n",
    "import seaborn as sn\n",
    "\n",
    "corr=np.abs(websites.corr())\n",
    "\n",
    "#Set up mask for triangle representation\n",
    "mask = np.zeros_like(corr, dtype=np.bool)\n",
    "mask[np.triu_indices_from(mask)] = True\n",
    "\n",
    "# Set up the matplotlib figure\n",
    "f, ax = plt.subplots(figsize=(14, 14))\n",
    "# Generate a custom diverging colormap\n",
    "cmap = sn.diverging_palette(220, 10, as_cmap=True)\n",
    "# Draw the heatmap with the mask and correct aspect ratio\n",
    "sn.heatmap(corr, mask=mask,  vmax=1,square=True, linewidths=.5, cbar_kws={\"shrink\": .5},annot = corr)\n",
    "\n",
    "plt.show()"
   ]
  },
  {
   "cell_type": "code",
   "execution_count": 6,
   "metadata": {},
   "outputs": [],
   "source": [
    "# Your comment here\n",
    "#app packets, tcp conv exchange, source app packets have the biggest corr so we can just leave app packets\n",
    "#remote app bytes has big corr with app bytes so we can just leave remote app"
   ]
  },
  {
   "cell_type": "markdown",
   "metadata": {},
   "source": [
    "# Challenge 2 - Remove Column Collinearity.\n",
    "\n",
    "From the heatmap you created, you should have seen at least 3 columns that can be removed due to high collinearity. Remove these columns from the dataset.\n",
    "\n",
    "Note that you should remove as few columns as you can. You don't have to remove all the columns at once. But instead, try removing one column, then produce the heatmap again to determine if additional columns should be removed. As long as the dataset no longer contains columns that are correlated for over 90%, you can stop. Also, keep in mind when two columns have high collinearity, you only need to remove one of them but not both.\n",
    "\n",
    "In the cells below, remove as few columns as you can to eliminate the high collinearity in the dataset. Make sure to comment on your way so that the instructional team can learn about your thinking process which allows them to give feedback. At the end, print the heatmap again."
   ]
  },
  {
   "cell_type": "code",
   "execution_count": 7,
   "metadata": {},
   "outputs": [],
   "source": [
    "# Your code here\n",
    "websites.drop(columns=['TCP_CONVERSATION_EXCHANGE'], inplace=True)"
   ]
  },
  {
   "cell_type": "code",
   "execution_count": 8,
   "metadata": {},
   "outputs": [
    {
     "name": "stderr",
     "output_type": "stream",
     "text": [
      "<ipython-input-8-ec1f359dc07d>:5: DeprecationWarning: `np.bool` is a deprecated alias for the builtin `bool`. To silence this warning, use `bool` by itself. Doing this will not modify any behavior and is safe. If you specifically wanted the numpy scalar type, use `np.bool_` here.\n",
      "Deprecated in NumPy 1.20; for more details and guidance: https://numpy.org/devdocs/release/1.20.0-notes.html#deprecations\n",
      "  mask = np.zeros_like(corr, dtype=np.bool)\n"
     ]
    },
    {
     "data": {
      "image/png": "[encoded data removed]",
      "text/plain": [
       "<Figure size 1008x1008 with 2 Axes>"
      ]
     },
     "metadata": {
      "needs_background": "light"
     },
     "output_type": "display_data"
    }
   ],
   "source": [
    "# Your comment here\n",
    "corr=np.abs(websites.corr())\n",
    "\n",
    "#Set up mask for triangle representation\n",
    "mask = np.zeros_like(corr, dtype=np.bool)\n",
    "mask[np.triu_indices_from(mask)] = True\n",
    "\n",
    "# Set up the matplotlib figure\n",
    "f, ax = plt.subplots(figsize=(14, 14))\n",
    "# Generate a custom diverging colormap\n",
    "cmap = sn.diverging_palette(220, 10, as_cmap=True)\n",
    "# Draw the heatmap with the mask and correct aspect ratio\n",
    "sn.heatmap(corr, mask=mask,  vmax=1,square=True, linewidths=.5, cbar_kws={\"shrink\": .5},annot = corr)\n",
    "\n",
    "plt.show()"
   ]
  },
  {
   "cell_type": "code",
   "execution_count": 9,
   "metadata": {},
   "outputs": [],
   "source": [
    "# droping and Printing heatmap again\n",
    "websites.drop(columns=['SOURCE_APP_PACKETS'], inplace=True)"
   ]
  },
  {
   "cell_type": "code",
   "execution_count": 10,
   "metadata": {},
   "outputs": [
    {
     "name": "stderr",
     "output_type": "stream",
     "text": [
      "<ipython-input-10-a70336aabeee>:4: DeprecationWarning: `np.bool` is a deprecated alias for the builtin `bool`. To silence this warning, use `bool` by itself. Doing this will not modify any behavior and is safe. If you specifically wanted the numpy scalar type, use `np.bool_` here.\n",
      "Deprecated in NumPy 1.20; for more details and guidance: https://numpy.org/devdocs/release/1.20.0-notes.html#deprecations\n",
      "  mask = np.zeros_like(corr, dtype=np.bool)\n"
     ]
    },
    {
     "data": {
      "image/png": "[encoded data removed]",
      "text/plain": [
       "<Figure size 1008x1008 with 2 Axes>"
      ]
     },
     "metadata": {
      "needs_background": "light"
     },
     "output_type": "display_data"
    }
   ],
   "source": [
    "corr=np.abs(websites.corr())\n",
    "\n",
    "#Set up mask for triangle representation\n",
    "mask = np.zeros_like(corr, dtype=np.bool)\n",
    "mask[np.triu_indices_from(mask)] = True\n",
    "\n",
    "# Set up the matplotlib figure\n",
    "f, ax = plt.subplots(figsize=(14, 14))\n",
    "# Generate a custom diverging colormap\n",
    "cmap = sn.diverging_palette(220, 10, as_cmap=True)\n",
    "# Draw the heatmap with the mask and correct aspect ratio\n",
    "sn.heatmap(corr, mask=mask,  vmax=1,square=True, linewidths=.5, cbar_kws={\"shrink\": .5},annot = corr)\n",
    "\n",
    "plt.show()"
   ]
  },
  {
   "cell_type": "code",
   "execution_count": 11,
   "metadata": {},
   "outputs": [],
   "source": [
    "websites.drop(columns=['REMOTE_APP_PACKETS'], inplace=True)"
   ]
  },
  {
   "cell_type": "code",
   "execution_count": 12,
   "metadata": {},
   "outputs": [
    {
     "name": "stderr",
     "output_type": "stream",
     "text": [
      "<ipython-input-12-a70336aabeee>:4: DeprecationWarning: `np.bool` is a deprecated alias for the builtin `bool`. To silence this warning, use `bool` by itself. Doing this will not modify any behavior and is safe. If you specifically wanted the numpy scalar type, use `np.bool_` here.\n",
      "Deprecated in NumPy 1.20; for more details and guidance: https://numpy.org/devdocs/release/1.20.0-notes.html#deprecations\n",
      "  mask = np.zeros_like(corr, dtype=np.bool)\n"
     ]
    },
    {
     "data": {
      "image/png": "[encoded data removed]",
      "text/plain": [
       "<Figure size 1008x1008 with 2 Axes>"
      ]
     },
     "metadata": {
      "needs_background": "light"
     },
     "output_type": "display_data"
    }
   ],
   "source": [
    "corr=np.abs(websites.corr())\n",
    "\n",
    "#Set up mask for triangle representation\n",
    "mask = np.zeros_like(corr, dtype=np.bool)\n",
    "mask[np.triu_indices_from(mask)] = True\n",
    "\n",
    "# Set up the matplotlib figure\n",
    "f, ax = plt.subplots(figsize=(14, 14))\n",
    "# Generate a custom diverging colormap\n",
    "cmap = sn.diverging_palette(220, 10, as_cmap=True)\n",
    "# Draw the heatmap with the mask and correct aspect ratio\n",
    "sn.heatmap(corr, mask=mask,  vmax=1,square=True, linewidths=.5, cbar_kws={\"shrink\": .5},annot = corr)\n",
    "\n",
    "plt.show()"
   ]
  },
  {
   "cell_type": "code",
   "execution_count": 13,
   "metadata": {},
   "outputs": [],
   "source": [
    "websites.drop(columns=[\"REMOTE_APP_BYTES\", \"URL_LENGTH\"], inplace=True)"
   ]
  },
  {
   "cell_type": "code",
   "execution_count": 14,
   "metadata": {},
   "outputs": [
    {
     "name": "stderr",
     "output_type": "stream",
     "text": [
      "<ipython-input-14-a70336aabeee>:4: DeprecationWarning: `np.bool` is a deprecated alias for the builtin `bool`. To silence this warning, use `bool` by itself. Doing this will not modify any behavior and is safe. If you specifically wanted the numpy scalar type, use `np.bool_` here.\n",
      "Deprecated in NumPy 1.20; for more details and guidance: https://numpy.org/devdocs/release/1.20.0-notes.html#deprecations\n",
      "  mask = np.zeros_like(corr, dtype=np.bool)\n"
     ]
    },
    {
     "data": {
      "image/png": "[encoded data removed]",
      "text/plain": [
       "<Figure size 1008x1008 with 2 Axes>"
      ]
     },
     "metadata": {
      "needs_background": "light"
     },
     "output_type": "display_data"
    }
   ],
   "source": [
    "corr=np.abs(websites.corr())\n",
    "\n",
    "#Set up mask for triangle representation\n",
    "mask = np.zeros_like(corr, dtype=np.bool)\n",
    "mask[np.triu_indices_from(mask)] = True\n",
    "\n",
    "# Set up the matplotlib figure\n",
    "f, ax = plt.subplots(figsize=(14, 14))\n",
    "# Generate a custom diverging colormap\n",
    "cmap = sn.diverging_palette(220, 10, as_cmap=True)\n",
    "# Draw the heatmap with the mask and correct aspect ratio\n",
    "sn.heatmap(corr, mask=mask,  vmax=1,square=True, linewidths=.5, cbar_kws={\"shrink\": .5},annot = corr)\n",
    "\n",
    "plt.show()"
   ]
  },
  {
   "cell_type": "markdown",
   "metadata": {},
   "source": [
    "# Challenge 3 - Handle Missing Values\n",
    "\n",
    "The next step would be handling missing values. **We start by examining the number of missing values in each column, which you will do in the next cell.**"
   ]
  },
  {
   "cell_type": "code",
   "execution_count": 15,
   "metadata": {},
   "outputs": [
    {
     "data": {
      "text/plain": [
       "URL                            0\n",
       "NUMBER_SPECIAL_CHARACTERS      0\n",
       "CHARSET                        0\n",
       "SERVER                         1\n",
       "CONTENT_LENGTH               812\n",
       "WHOIS_COUNTRY                  0\n",
       "WHOIS_STATEPRO                 0\n",
       "WHOIS_REGDATE                  0\n",
       "WHOIS_UPDATED_DATE             0\n",
       "DIST_REMOTE_TCP_PORT           0\n",
       "REMOTE_IPS                     0\n",
       "APP_BYTES                      0\n",
       "SOURCE_APP_BYTES               0\n",
       "APP_PACKETS                    0\n",
       "DNS_QUERY_TIMES                1\n",
       "Type                           0\n",
       "dtype: int64"
      ]
     },
     "execution_count": 15,
     "metadata": {},
     "output_type": "execute_result"
    }
   ],
   "source": [
    "# Your code here\n",
    "websites.isna().sum()"
   ]
  },
  {
   "cell_type": "markdown",
   "metadata": {},
   "source": [
    "If you remember in the previous labs, we drop a column if the column contains a high proportion of missing values. After dropping those problematic columns, we drop the rows with missing values.\n",
    "\n",
    "#### In the cells below, handle the missing values from the dataset. Remember to comment the rationale of your decisions."
   ]
  },
  {
   "cell_type": "code",
   "execution_count": 16,
   "metadata": {},
   "outputs": [
    {
     "data": {
      "text/plain": [
       "0.45592363840539024"
      ]
     },
     "execution_count": 16,
     "metadata": {},
     "output_type": "execute_result"
    }
   ],
   "source": [
    "# Your code here\n",
    "websites[\"CONTENT_LENGTH\"].isna().sum()/len(websites)"
   ]
  },
  {
   "cell_type": "code",
   "execution_count": 17,
   "metadata": {},
   "outputs": [],
   "source": [
    "# Your comment here\n",
    "websites.drop(columns=[\"CONTENT_LENGTH\"], inplace=True)"
   ]
  },
  {
   "cell_type": "markdown",
   "metadata": {},
   "source": [
    "#### Again, examine the number of missing values in each column. \n",
    "\n",
    "If all cleaned, proceed. Otherwise, go back and do more cleaning."
   ]
  },
  {
   "cell_type": "code",
   "execution_count": 18,
   "metadata": {},
   "outputs": [
    {
     "data": {
      "text/plain": [
       "URL                          0\n",
       "NUMBER_SPECIAL_CHARACTERS    0\n",
       "CHARSET                      0\n",
       "SERVER                       1\n",
       "WHOIS_COUNTRY                0\n",
       "WHOIS_STATEPRO               0\n",
       "WHOIS_REGDATE                0\n",
       "WHOIS_UPDATED_DATE           0\n",
       "DIST_REMOTE_TCP_PORT         0\n",
       "REMOTE_IPS                   0\n",
       "APP_BYTES                    0\n",
       "SOURCE_APP_BYTES             0\n",
       "APP_PACKETS                  0\n",
       "DNS_QUERY_TIMES              1\n",
       "Type                         0\n",
       "dtype: int64"
      ]
     },
     "execution_count": 18,
     "metadata": {},
     "output_type": "execute_result"
    }
   ],
   "source": [
    "# Examine missing values in each column\n",
    "websites.isna().sum()"
   ]
  },
  {
   "cell_type": "code",
   "execution_count": 19,
   "metadata": {},
   "outputs": [
    {
     "data": {
      "text/html": [
       "<div>\n",
       "<style scoped>\n",
       "    .dataframe tbody tr th:only-of-type {\n",
       "        vertical-align: middle;\n",
       "    }\n",
       "\n",
       "    .dataframe tbody tr th {\n",
       "        vertical-align: top;\n",
       "    }\n",
       "\n",
       "    .dataframe thead th {\n",
       "        text-align: right;\n",
       "    }\n",
       "</style>\n",
       "<table border=\"1\" class=\"dataframe\">\n",
       "  <thead>\n",
       "    <tr style=\"text-align: right;\">\n",
       "      <th></th>\n",
       "      <th>URL</th>\n",
       "      <th>NUMBER_SPECIAL_CHARACTERS</th>\n",
       "      <th>CHARSET</th>\n",
       "      <th>SERVER</th>\n",
       "      <th>WHOIS_COUNTRY</th>\n",
       "      <th>WHOIS_STATEPRO</th>\n",
       "      <th>WHOIS_REGDATE</th>\n",
       "      <th>WHOIS_UPDATED_DATE</th>\n",
       "      <th>DIST_REMOTE_TCP_PORT</th>\n",
       "      <th>REMOTE_IPS</th>\n",
       "      <th>APP_BYTES</th>\n",
       "      <th>SOURCE_APP_BYTES</th>\n",
       "      <th>APP_PACKETS</th>\n",
       "      <th>DNS_QUERY_TIMES</th>\n",
       "      <th>Type</th>\n",
       "    </tr>\n",
       "  </thead>\n",
       "  <tbody>\n",
       "    <tr>\n",
       "      <th>0</th>\n",
       "      <td>M0_109</td>\n",
       "      <td>7</td>\n",
       "      <td>iso-8859-1</td>\n",
       "      <td>nginx</td>\n",
       "      <td>None</td>\n",
       "      <td>None</td>\n",
       "      <td>10/10/2015 18:21</td>\n",
       "      <td>None</td>\n",
       "      <td>0</td>\n",
       "      <td>2</td>\n",
       "      <td>700</td>\n",
       "      <td>1153</td>\n",
       "      <td>9</td>\n",
       "      <td>2.0</td>\n",
       "      <td>1</td>\n",
       "    </tr>\n",
       "    <tr>\n",
       "      <th>1</th>\n",
       "      <td>B0_2314</td>\n",
       "      <td>6</td>\n",
       "      <td>UTF-8</td>\n",
       "      <td>Apache/2.4.10</td>\n",
       "      <td>None</td>\n",
       "      <td>None</td>\n",
       "      <td>None</td>\n",
       "      <td>None</td>\n",
       "      <td>7</td>\n",
       "      <td>4</td>\n",
       "      <td>1230</td>\n",
       "      <td>1265</td>\n",
       "      <td>17</td>\n",
       "      <td>0.0</td>\n",
       "      <td>0</td>\n",
       "    </tr>\n",
       "    <tr>\n",
       "      <th>2</th>\n",
       "      <td>B0_911</td>\n",
       "      <td>6</td>\n",
       "      <td>us-ascii</td>\n",
       "      <td>Microsoft-HTTPAPI/2.0</td>\n",
       "      <td>None</td>\n",
       "      <td>None</td>\n",
       "      <td>None</td>\n",
       "      <td>None</td>\n",
       "      <td>0</td>\n",
       "      <td>0</td>\n",
       "      <td>0</td>\n",
       "      <td>0</td>\n",
       "      <td>0</td>\n",
       "      <td>0.0</td>\n",
       "      <td>0</td>\n",
       "    </tr>\n",
       "    <tr>\n",
       "      <th>3</th>\n",
       "      <td>B0_113</td>\n",
       "      <td>6</td>\n",
       "      <td>ISO-8859-1</td>\n",
       "      <td>nginx</td>\n",
       "      <td>US</td>\n",
       "      <td>AK</td>\n",
       "      <td>7/10/1997 4:00</td>\n",
       "      <td>12/09/2013 0:45</td>\n",
       "      <td>22</td>\n",
       "      <td>3</td>\n",
       "      <td>3812</td>\n",
       "      <td>18784</td>\n",
       "      <td>39</td>\n",
       "      <td>8.0</td>\n",
       "      <td>0</td>\n",
       "    </tr>\n",
       "    <tr>\n",
       "      <th>4</th>\n",
       "      <td>B0_403</td>\n",
       "      <td>6</td>\n",
       "      <td>UTF-8</td>\n",
       "      <td>None</td>\n",
       "      <td>US</td>\n",
       "      <td>TX</td>\n",
       "      <td>12/05/1996 0:00</td>\n",
       "      <td>11/04/2017 0:00</td>\n",
       "      <td>2</td>\n",
       "      <td>5</td>\n",
       "      <td>4278</td>\n",
       "      <td>129889</td>\n",
       "      <td>61</td>\n",
       "      <td>4.0</td>\n",
       "      <td>0</td>\n",
       "    </tr>\n",
       "  </tbody>\n",
       "</table>\n",
       "</div>"
      ],
      "text/plain": [
       "       URL  NUMBER_SPECIAL_CHARACTERS     CHARSET                 SERVER  \\\n",
       "0   M0_109                          7  iso-8859-1                  nginx   \n",
       "1  B0_2314                          6       UTF-8          Apache/2.4.10   \n",
       "2   B0_911                          6    us-ascii  Microsoft-HTTPAPI/2.0   \n",
       "3   B0_113                          6  ISO-8859-1                  nginx   \n",
       "4   B0_403                          6       UTF-8                   None   \n",
       "\n",
       "  WHOIS_COUNTRY WHOIS_STATEPRO     WHOIS_REGDATE WHOIS_UPDATED_DATE  \\\n",
       "0          None           None  10/10/2015 18:21               None   \n",
       "1          None           None              None               None   \n",
       "2          None           None              None               None   \n",
       "3            US             AK    7/10/1997 4:00    12/09/2013 0:45   \n",
       "4            US             TX   12/05/1996 0:00    11/04/2017 0:00   \n",
       "\n",
       "   DIST_REMOTE_TCP_PORT  REMOTE_IPS  APP_BYTES  SOURCE_APP_BYTES  APP_PACKETS  \\\n",
       "0                     0           2        700              1153            9   \n",
       "1                     7           4       1230              1265           17   \n",
       "2                     0           0          0                 0            0   \n",
       "3                    22           3       3812             18784           39   \n",
       "4                     2           5       4278            129889           61   \n",
       "\n",
       "   DNS_QUERY_TIMES  Type  \n",
       "0              2.0     1  \n",
       "1              0.0     0  \n",
       "2              0.0     0  \n",
       "3              8.0     0  \n",
       "4              4.0     0  "
      ]
     },
     "execution_count": 19,
     "metadata": {},
     "output_type": "execute_result"
    }
   ],
   "source": [
    "websites_clean = websites.dropna(axis=0)\n",
    "websites_clean.head(5)"
   ]
  },
  {
   "cell_type": "code",
   "execution_count": 20,
   "metadata": {},
   "outputs": [
    {
     "data": {
      "text/plain": [
       "URL                          0\n",
       "NUMBER_SPECIAL_CHARACTERS    0\n",
       "CHARSET                      0\n",
       "SERVER                       0\n",
       "WHOIS_COUNTRY                0\n",
       "WHOIS_STATEPRO               0\n",
       "WHOIS_REGDATE                0\n",
       "WHOIS_UPDATED_DATE           0\n",
       "DIST_REMOTE_TCP_PORT         0\n",
       "REMOTE_IPS                   0\n",
       "APP_BYTES                    0\n",
       "SOURCE_APP_BYTES             0\n",
       "APP_PACKETS                  0\n",
       "DNS_QUERY_TIMES              0\n",
       "Type                         0\n",
       "dtype: int64"
      ]
     },
     "execution_count": 20,
     "metadata": {},
     "output_type": "execute_result"
    }
   ],
   "source": [
    "websites_clean.isna().sum()"
   ]
  },
  {
   "cell_type": "markdown",
   "metadata": {},
   "source": [
    "# Challenge 4 - Handle `WHOIS_*` Categorical Data"
   ]
  },
  {
   "cell_type": "markdown",
   "metadata": {},
   "source": [
    "There are several categorical columns we need to handle. These columns are:\n",
    "\n",
    "* `URL`\n",
    "* `CHARSET`\n",
    "* `SERVER`\n",
    "* `WHOIS_COUNTRY`\n",
    "* `WHOIS_STATEPRO`\n",
    "* `WHOIS_REGDATE`\n",
    "* `WHOIS_UPDATED_DATE`\n",
    "\n",
    "How to handle string columns is always case by case. Let's start by working on `WHOIS_COUNTRY`. Your steps are:\n",
    "\n",
    "1. List out the unique values of `WHOIS_COUNTRY`.\n",
    "1. Consolidate the country values with consistent country codes. For example, the following values refer to the same country and should use consistent country code:\n",
    "    * `CY` and `Cyprus`\n",
    "    * `US` and `us`\n",
    "    * `SE` and `se`\n",
    "    * `GB`, `United Kingdom`, and `[u'GB'; u'UK']`\n",
    "\n",
    "#### In the cells below, fix the country values as intructed above."
   ]
  },
  {
   "cell_type": "code",
   "execution_count": 21,
   "metadata": {},
   "outputs": [
    {
     "data": {
      "text/plain": [
       "array(['None', 'US', 'SC', 'GB', 'UK', 'RU', 'AU', 'CA', 'PA', 'se', 'IN',\n",
       "       'LU', 'TH', \"[u'GB'; u'UK']\", 'FR', 'NL', 'UG', 'JP', 'CN', 'SE',\n",
       "       'SI', 'IL', 'ru', 'KY', 'AT', 'CZ', 'PH', 'BE', 'NO', 'TR', 'LV',\n",
       "       'DE', 'ES', 'BR', 'us', 'KR', 'HK', 'UA', 'CH', 'United Kingdom',\n",
       "       'BS', 'PK', 'IT', 'Cyprus', 'BY', 'AE', 'IE', 'UY', 'KG'],\n",
       "      dtype=object)"
      ]
     },
     "execution_count": 21,
     "metadata": {},
     "output_type": "execute_result"
    }
   ],
   "source": [
    "# Your code here\n",
    "websites[\"WHOIS_COUNTRY\"].unique()"
   ]
  },
  {
   "cell_type": "code",
   "execution_count": 22,
   "metadata": {},
   "outputs": [],
   "source": [
    "def change_country_name(country_name):\n",
    "    if country_name==\"us\":\n",
    "        country_name=\"US\"\n",
    "    elif country_name==\"se\":\n",
    "        country_name=\"SE\"\n",
    "    elif country_name==\"Cyprus\":\n",
    "        country_name=\"CY\"\n",
    "    elif (country_name==\"United Kingdom\")| (country_name==\"GB\") | (country_name==\"[u'GB'; u'UK']\"):\n",
    "        country_name=\"UK\"\n",
    "    else:\n",
    "        pass\n",
    "\n",
    "    return country_name"
   ]
  },
  {
   "cell_type": "code",
   "execution_count": 23,
   "metadata": {},
   "outputs": [
    {
     "name": "stderr",
     "output_type": "stream",
     "text": [
      "<ipython-input-23-2ee4d066fb9d>:1: SettingWithCopyWarning: \n",
      "A value is trying to be set on a copy of a slice from a DataFrame.\n",
      "Try using .loc[row_indexer,col_indexer] = value instead\n",
      "\n",
      "See the caveats in the documentation: https://pandas.pydata.org/pandas-docs/stable/user_guide/indexing.html#returning-a-view-versus-a-copy\n",
      "  websites_clean['WHOIS_COUNTRY'] = websites_clean['WHOIS_COUNTRY'].apply(change_country_name)\n"
     ]
    }
   ],
   "source": [
    "websites_clean['WHOIS_COUNTRY'] = websites_clean['WHOIS_COUNTRY'].apply(change_country_name)"
   ]
  },
  {
   "cell_type": "code",
   "execution_count": 24,
   "metadata": {},
   "outputs": [
    {
     "data": {
      "text/plain": [
       "array(['None', 'US', 'SC', 'UK', 'RU', 'AU', 'CA', 'PA', 'SE', 'IN', 'LU',\n",
       "       'TH', 'FR', 'NL', 'UG', 'JP', 'CN', 'SI', 'IL', 'ru', 'KY', 'AT',\n",
       "       'CZ', 'PH', 'BE', 'NO', 'TR', 'LV', 'DE', 'ES', 'BR', 'KR', 'HK',\n",
       "       'UA', 'CH', 'BS', 'PK', 'IT', 'CY', 'BY', 'AE', 'IE', 'UY', 'KG'],\n",
       "      dtype=object)"
      ]
     },
     "execution_count": 24,
     "metadata": {},
     "output_type": "execute_result"
    }
   ],
   "source": [
    "websites_clean[\"WHOIS_COUNTRY\"].unique()"
   ]
  },
  {
   "cell_type": "markdown",
   "metadata": {},
   "source": [
    "Since we have fixed the country values, can we convert this column to ordinal now?\n",
    "\n",
    "Not yet. If you reflect on the previous labs how we handle categorical columns, you probably remember we ended up dropping a lot of those columns because there are too many unique values. Too many unique values in a column is not desirable in machine learning because it makes prediction inaccurate. But there are workarounds under certain conditions. One of the fixable conditions is:\n",
    "\n",
    "#### If a limited number of values account for the majority of data, we can retain these top values and re-label all other rare values.\n",
    "\n",
    "The `WHOIS_COUNTRY` column happens to be this case. You can verify it by print a bar chart of the `value_counts` in the next cell to verify:"
   ]
  },
  {
   "cell_type": "code",
   "execution_count": 25,
   "metadata": {},
   "outputs": [
    {
     "data": {
      "text/plain": [
       "US      1105\n",
       "None     306\n",
       "CA        83\n",
       "ES        63\n",
       "UK        35\n",
       "AU        35\n",
       "PA        21\n",
       "JP        11\n",
       "CN        10\n",
       "IN        10\n",
       "FR         9\n",
       "CZ         9\n",
       "NL         6\n",
       "CH         6\n",
       "KR         5\n",
       "AT         4\n",
       "PH         4\n",
       "SE         4\n",
       "BS         4\n",
       "ru         4\n",
       "TR         3\n",
       "HK         3\n",
       "BE         3\n",
       "DE         3\n",
       "KY         3\n",
       "SC         3\n",
       "UA         2\n",
       "BR         2\n",
       "CY         2\n",
       "UY         2\n",
       "KG         2\n",
       "NO         2\n",
       "RU         2\n",
       "IL         2\n",
       "SI         2\n",
       "LV         1\n",
       "PK         1\n",
       "IT         1\n",
       "LU         1\n",
       "BY         1\n",
       "AE         1\n",
       "IE         1\n",
       "UG         1\n",
       "TH         1\n",
       "Name: WHOIS_COUNTRY, dtype: int64"
      ]
     },
     "execution_count": 25,
     "metadata": {},
     "output_type": "execute_result"
    }
   ],
   "source": [
    "# Your code here\n",
    "websites_clean['WHOIS_COUNTRY'].value_counts()"
   ]
  },
  {
   "cell_type": "markdown",
   "metadata": {},
   "source": [
    "#### After verifying, now let's keep the top 10 values of the column and re-label other columns with `OTHER`."
   ]
  },
  {
   "cell_type": "code",
   "execution_count": 49,
   "metadata": {
    "scrolled": true
   },
   "outputs": [
    {
     "name": "stderr",
     "output_type": "stream",
     "text": [
      "<ipython-input-49-27c1f268f8fa>:11: SettingWithCopyWarning: \n",
      "A value is trying to be set on a copy of a slice from a DataFrame.\n",
      "Try using .loc[row_indexer,col_indexer] = value instead\n",
      "\n",
      "See the caveats in the documentation: https://pandas.pydata.org/pandas-docs/stable/user_guide/indexing.html#returning-a-view-versus-a-copy\n",
      "  websites_clean['WHOIS_COUNTRY'] = websites_clean['WHOIS_COUNTRY'].apply(select_country)\n"
     ]
    },
    {
     "data": {
      "text/plain": [
       "array(['OTHER', 'US', 'UK', 'AU', 'CA', 'PA', 'IN', 'JP', 'CN', 'ES'],\n",
       "      dtype=object)"
      ]
     },
     "execution_count": 49,
     "metadata": {},
     "output_type": "execute_result"
    }
   ],
   "source": [
    "# Your code here\n",
    "country_list = ['US', 'CA', 'ES', 'UK', 'AU', 'PA', 'JP', 'CN', 'IN']\n",
    "\n",
    "def select_country(country):\n",
    "    if country in country_list:\n",
    "        country = country\n",
    "    else:\n",
    "        country = \"OTHER\"\n",
    "    return country\n",
    "\n",
    "websites_clean['WHOIS_COUNTRY'] = websites_clean['WHOIS_COUNTRY'].apply(select_country)\n",
    "websites_clean[\"WHOIS_COUNTRY\"].unique()"
   ]
  },
  {
   "cell_type": "markdown",
   "metadata": {},
   "source": [
    "Now since `WHOIS_COUNTRY` has been re-labelled, we don't need `WHOIS_STATEPRO` any more because the values of the states or provinces may not be relevant any more. We'll drop this column.\n",
    "\n",
    "In addition, we will also drop `WHOIS_REGDATE` and `WHOIS_UPDATED_DATE`. These are the registration and update dates of the website domains. Not of our concerns.\n",
    "\n",
    "#### In the next cell, drop `['WHOIS_STATEPRO', 'WHOIS_REGDATE', 'WHOIS_UPDATED_DATE']`."
   ]
  },
  {
   "cell_type": "code",
   "execution_count": 51,
   "metadata": {},
   "outputs": [
    {
     "name": "stderr",
     "output_type": "stream",
     "text": [
      "<ipython-input-51-8f61188552b9>:2: SettingWithCopyWarning: \n",
      "A value is trying to be set on a copy of a slice from a DataFrame\n",
      "\n",
      "See the caveats in the documentation: https://pandas.pydata.org/pandas-docs/stable/user_guide/indexing.html#returning-a-view-versus-a-copy\n",
      "  websites_clean.drop(columns=['WHOIS_STATEPRO', 'WHOIS_REGDATE', 'WHOIS_UPDATED_DATE'], inplace=True)\n"
     ]
    }
   ],
   "source": [
    "# Your code here\n",
    "websites_clean.drop(columns=['WHOIS_STATEPRO', 'WHOIS_REGDATE', 'WHOIS_UPDATED_DATE'], inplace=True)"
   ]
  },
  {
   "cell_type": "markdown",
   "metadata": {},
   "source": [
    "# Challenge 5 - Handle Remaining Categorical Data & Convert to Ordinal\n",
    "\n",
    "Now print the `dtypes` of the data again. Besides `WHOIS_COUNTRY` which we already fixed, there should be 3 categorical columns left: `URL`, `CHARSET`, and `SERVER`."
   ]
  },
  {
   "cell_type": "code",
   "execution_count": 52,
   "metadata": {},
   "outputs": [
    {
     "data": {
      "text/plain": [
       "URL                           object\n",
       "NUMBER_SPECIAL_CHARACTERS      int64\n",
       "CHARSET                       object\n",
       "SERVER                        object\n",
       "WHOIS_COUNTRY                 object\n",
       "DIST_REMOTE_TCP_PORT           int64\n",
       "REMOTE_IPS                     int64\n",
       "APP_BYTES                      int64\n",
       "SOURCE_APP_BYTES               int64\n",
       "APP_PACKETS                    int64\n",
       "DNS_QUERY_TIMES              float64\n",
       "Type                           int64\n",
       "dtype: object"
      ]
     },
     "execution_count": 52,
     "metadata": {},
     "output_type": "execute_result"
    }
   ],
   "source": [
    "# Your code here\n",
    "websites_clean.dtypes"
   ]
  },
  {
   "cell_type": "markdown",
   "metadata": {},
   "source": [
    "#### `URL` is easy. We'll simply drop it because it has too many unique values that there's no way for us to consolidate."
   ]
  },
  {
   "cell_type": "code",
   "execution_count": 53,
   "metadata": {},
   "outputs": [
    {
     "name": "stderr",
     "output_type": "stream",
     "text": [
      "<ipython-input-53-2ecb3ef26b01>:2: SettingWithCopyWarning: \n",
      "A value is trying to be set on a copy of a slice from a DataFrame\n",
      "\n",
      "See the caveats in the documentation: https://pandas.pydata.org/pandas-docs/stable/user_guide/indexing.html#returning-a-view-versus-a-copy\n",
      "  websites_clean.drop(columns=['URL'], inplace=True)\n"
     ]
    }
   ],
   "source": [
    "# Your code here\n",
    "websites_clean.drop(columns=['URL'], inplace=True)"
   ]
  },
  {
   "cell_type": "markdown",
   "metadata": {},
   "source": [
    "#### Print the unique value counts of `CHARSET`. You see there are only a few unique values. So we can keep it as it is."
   ]
  },
  {
   "cell_type": "code",
   "execution_count": 54,
   "metadata": {},
   "outputs": [
    {
     "data": {
      "text/plain": [
       "array(['iso-8859-1', 'UTF-8', 'us-ascii', 'ISO-8859-1', 'utf-8', 'None',\n",
       "       'windows-1251', 'ISO-8859', 'windows-1252'], dtype=object)"
      ]
     },
     "execution_count": 54,
     "metadata": {},
     "output_type": "execute_result"
    }
   ],
   "source": [
    "# Your code here\n",
    "websites_clean[\"CHARSET\"].unique()"
   ]
  },
  {
   "cell_type": "markdown",
   "metadata": {},
   "source": [
    "`SERVER` is a little more complicated. Print its unique values and think about how you can consolidate those values.\n",
    "\n",
    "#### Before you think of your own solution, don't read the instructions that come next."
   ]
  },
  {
   "cell_type": "code",
   "execution_count": 55,
   "metadata": {},
   "outputs": [
    {
     "data": {
      "text/plain": [
       "array(['nginx', 'Apache/2.4.10', 'Microsoft-HTTPAPI/2.0', 'None',\n",
       "       'Apache/2', 'nginx/1.10.1', 'Apache', 'Apache/2.2.15 (Red Hat)',\n",
       "       'Apache/2.4.23 (Unix) OpenSSL/1.0.1e-fips mod_bwlimited/1.4',\n",
       "       'openresty/1.11.2.1', 'Apache/2.2.22', 'Apache/2.4.7 (Ubuntu)',\n",
       "       'nginx/1.12.0',\n",
       "       'Apache/2.4.12 (Unix) OpenSSL/1.0.1e-fips mod_bwlimited/1.4',\n",
       "       'Oracle-iPlanet-Web-Server/7.0', 'cloudflare-nginx', 'nginx/1.6.2',\n",
       "       'openresty', 'Heptu web server', 'Pepyaka/1.11.3', 'nginx/1.8.0',\n",
       "       'nginx/1.10.1 + Phusion Passenger 5.0.30',\n",
       "       'Apache/2.2.29 (Amazon)', 'Microsoft-IIS/7.5', 'LiteSpeed',\n",
       "       'Apache/2.4.25 (cPanel) OpenSSL/1.0.1e-fips mod_bwlimited/1.4',\n",
       "       'tsa_c', 'Apache/2.2.0 (Fedora)', 'Apache/2.2.22 (Debian)',\n",
       "       'Apache/2.2.15 (CentOS)', 'Apache/2.4.25',\n",
       "       'Apache/2.4.25 (Amazon) PHP/7.0.14', 'GSE',\n",
       "       'Apache/2.4.23 (Unix) OpenSSL/0.9.8e-fips-rhel5 mod_bwlimited/1.4',\n",
       "       'Apache/2.4.25 (Amazon) OpenSSL/1.0.1k-fips',\n",
       "       'Apache/2.2.22 (Ubuntu)', 'Tengine',\n",
       "       'Apache/2.4.18 (Unix) OpenSSL/0.9.8e-fips-rhel5 mod_bwlimited/1.4',\n",
       "       'Apache/2.4.10 (Debian)', 'Apache/2.4.6 (CentOS) PHP/5.6.8',\n",
       "       'Sun-ONE-Web-Server/6.1',\n",
       "       'Apache/2.4.18 (Unix) OpenSSL/1.0.2e Communique/4.1.10',\n",
       "       'AmazonS3',\n",
       "       'Apache/1.3.37 (Unix) mod_perl/1.29 mod_ssl/2.8.28 OpenSSL/0.9.7e-p1',\n",
       "       'ATS', 'Apache/2.2.27 (CentOS)',\n",
       "       'Apache/2.2.29 (Unix) mod_ssl/2.2.29 OpenSSL/1.0.1e-fips DAV/2 mod_bwlimited/1.4',\n",
       "       'CherryPy/3.6.0', 'Server', 'KHL',\n",
       "       'Apache/2.4.6 (CentOS) OpenSSL/1.0.1e-fips mod_fcgid/2.3.9 PHP/5.4.16 mod_jk/1.2.40',\n",
       "       'Apache/2.2.3 (CentOS)', 'Apache/2.4',\n",
       "       'Apache/1.3.27 (Unix)  (Red-Hat/Linux) mod_perl/1.26 PHP/4.3.3 FrontPage/5.0.2 mod_ssl/2.8.12 OpenSSL/0.9.6b',\n",
       "       'mw2114.codfw.wmnet',\n",
       "       'Apache/2.2.31 (Unix) mod_ssl/2.2.31 OpenSSL/1.0.1e-fips mod_bwlimited/1.4 mod_perl/2.0.8 Perl/v5.10.1',\n",
       "       'Apache/1.3.34 (Unix) PHP/4.4.4', 'Apache/2.2.31 (Amazon)',\n",
       "       'Jetty(9.0.z-SNAPSHOT)', 'Apache/2.2.31 (CentOS)',\n",
       "       'Apache/2.4.12 (Ubuntu)', 'HTTPDaemon',\n",
       "       'Apache/2.2.29 (Unix) mod_ssl/2.2.29 OpenSSL/1.0.1e-fips mod_bwlimited/1.4',\n",
       "       'MediaFire', 'DOSarrest', 'mw2232.codfw.wmnet',\n",
       "       'Sucuri/Cloudproxy', 'Apache/2.4.23 (Unix)', 'nginx/0.7.65',\n",
       "       'mw2260.codfw.wmnet', 'Apache/2.2.32', 'mw2239.codfw.wmnet',\n",
       "       'DPS/1.1.8', 'Apache/2.0.52 (Red Hat)',\n",
       "       'Apache/2.2.25 (Unix) mod_ssl/2.2.25 OpenSSL/0.9.8e-fips-rhel5 mod_bwlimited/1.4',\n",
       "       'Apache/1.3.31 (Unix) PHP/4.3.9 mod_perl/1.29 rus/PL30.20',\n",
       "       'Apache/2.2.13 (Unix) mod_ssl/2.2.13 OpenSSL/0.9.8e-fips-rhel5 mod_auth_passthrough/2.1 mod_bwlimited/1.4 PHP/5.2.10',\n",
       "       'nginx/1.1.19', 'ATS/5.3.0', 'Apache/2.2.3 (Red Hat)',\n",
       "       'nginx/1.4.3',\n",
       "       'Apache/2.2.29 (Unix) mod_ssl/2.2.29 OpenSSL/1.0.1e-fips mod_bwlimited/1.4 PHP/5.4.35',\n",
       "       'Apache/2.2.14 (FreeBSD) mod_ssl/2.2.14 OpenSSL/0.9.8y DAV/2 PHP/5.2.12 with Suhosin-Patch',\n",
       "       'Apache/2.2.14 (Unix) mod_ssl/2.2.14 OpenSSL/0.9.8e-fips-rhel5',\n",
       "       'Apache/1.3.39 (Unix) PHP/5.2.5 mod_auth_passthrough/1.8 mod_bwlimited/1.4 mod_log_bytes/1.2 mod_gzip/1.3.26.1a FrontPage/5.0.2.2635 DAV/1.0.3 mod_ssl/2.8.30 OpenSSL/0.9.7a',\n",
       "       'SSWS', 'Microsoft-IIS/8.0', 'Apache/2.4.18 (Ubuntu)',\n",
       "       'Apache/2.4.6 (CentOS) OpenSSL/1.0.1e-fips PHP/5.4.16 mod_apreq2-20090110/2.8.0 mod_perl/2.0.10 Perl/v5.24.1',\n",
       "       'Apache/2.2.20 (Unix)', 'YouTubeFrontEnd', 'nginx/1.11.3',\n",
       "       'nginx/1.11.2', 'nginx/1.10.0 (Ubuntu)', 'nginx/1.8.1',\n",
       "       'nginx/1.11.10', 'Squeegit/1.2.5 (3_sir)',\n",
       "       'Virtuoso/07.20.3217 (Linux) i686-generic-linux-glibc212-64  VDB',\n",
       "       'Apache-Coyote/1.1', 'Yippee-Ki-Yay', 'mw2165.codfw.wmnet',\n",
       "       'mw2192.codfw.wmnet', 'Apache/2.2.23 (Amazon)',\n",
       "       'nginx/1.4.6 (Ubuntu)', 'nginx + Phusion Passenger',\n",
       "       'Proxy Pandeiro UOL', 'mw2231.codfw.wmnet', 'openresty/1.11.2.2',\n",
       "       'mw2109.codfw.wmnet', 'nginx/0.8.54', 'Apache/2.4.6',\n",
       "       'mw2225.codfw.wmnet', 'Apache/1.3.27 (Unix) PHP/4.4.1',\n",
       "       'mw2236.codfw.wmnet', 'mw2101.codfw.wmnet', 'Varnish',\n",
       "       'Resin/3.1.8', 'mw2164.codfw.wmnet', 'Microsoft-IIS/8.5',\n",
       "       'mw2242.codfw.wmnet',\n",
       "       'Apache/2.4.6 (CentOS) OpenSSL/1.0.1e-fips PHP/5.5.38',\n",
       "       'mw2175.codfw.wmnet', 'mw2107.codfw.wmnet', 'mw2190.codfw.wmnet',\n",
       "       'Apache/2.4.6 (CentOS)', 'nginx/1.13.0', 'barista/5.1.3',\n",
       "       'mw2103.codfw.wmnet', 'Apache/2.4.25 (Debian)', 'ECD (fll/0790)',\n",
       "       'Pagely Gateway/1.5.1', 'nginx/1.10.3',\n",
       "       'Apache/2.4.25 (FreeBSD) OpenSSL/1.0.1s-freebsd PHP/5.6.30',\n",
       "       'mw2097.codfw.wmnet', 'mw2233.codfw.wmnet', 'fbs',\n",
       "       'mw2199.codfw.wmnet', 'mw2255.codfw.wmnet', 'mw2228.codfw.wmnet',\n",
       "       'Apache/2.2.31 (Unix) mod_ssl/2.2.31 OpenSSL/1.0.1e-fips mod_bwlimited/1.4 mod_fcgid/2.3.9',\n",
       "       'gunicorn/19.7.1',\n",
       "       'Apache/2.2.31 (Unix) mod_ssl/2.2.31 OpenSSL/0.9.8e-fips-rhel5 mod_bwlimited/1.4',\n",
       "       'Apache/2.4.6 (CentOS) OpenSSL/1.0.1e-fips PHP/5.4.16',\n",
       "       'mw2241.codfw.wmnet',\n",
       "       'Apache/1.3.33 (Unix) mod_ssl/2.8.24 OpenSSL/0.9.7e-p1 PHP/4.4.8',\n",
       "       'lighttpd', 'mw2230.codfw.wmnet',\n",
       "       'Apache/2.4.6 (CentOS) OpenSSL/1.0.1e-fips', 'AkamaiGHost',\n",
       "       'mw2240.codfw.wmnet', 'nginx/1.10.2', 'PWS/8.2.0.7', 'nginx/1.2.1',\n",
       "       'nxfps',\n",
       "       'Apache/2.2.16 (Unix) mod_ssl/2.2.16 OpenSSL/0.9.8e-fips-rhel5 mod_auth_passthrough/2.1 mod_bwlimited/1.4',\n",
       "       'Play', 'mw2185.codfw.wmnet',\n",
       "       'Apache/2.4.10 (Unix) OpenSSL/1.0.1k',\n",
       "       'Apache/Not telling (Unix) AuthTDS/1.1',\n",
       "       'Apache/2.2.11 (Unix) PHP/5.2.6', 'Scratch Web Server',\n",
       "       'marrakesh 1.12.2', 'nginx/0.8.35', 'mw2182.codfw.wmnet',\n",
       "       'squid/3.3.8', 'nginx/1.10.0', 'Nginx (OpenBSD)',\n",
       "       'Zope/(2.13.16; python 2.6.8; linux2) ZServer/1.1',\n",
       "       'Apache/2.2.26 (Unix) mod_ssl/2.2.26 OpenSSL/0.9.8e-fips-rhel5 mod_bwlimited/1.4 PHP/5.4.26',\n",
       "       'Apache/2.2.21 (Unix) mod_ssl/2.2.21 OpenSSL/0.9.8e-fips-rhel5 PHP/5.3.10',\n",
       "       'Apache/2.2.27 (Unix) OpenAM Web Agent/4.0.1-1 mod_ssl/2.2.27 OpenSSL/1.0.1p PHP/5.3.28',\n",
       "       'mw2104.codfw.wmnet', '.V01 Apache', 'mw2110.codfw.wmnet',\n",
       "       'Apache/2.4.6 (Unix) mod_jk/1.2.37 PHP/5.5.1 OpenSSL/1.0.1g mod_fcgid/2.3.9',\n",
       "       'mw2176.codfw.wmnet', 'mw2187.codfw.wmnet', 'mw2106.codfw.wmnet',\n",
       "       'Microsoft-IIS/7.0',\n",
       "       'Apache/1.3.42 Ben-SSL/1.60 (Unix) mod_gzip/1.3.26.1a mod_fastcgi/2.4.6 mod_throttle/3.1.2 Chili!Soft-ASP/3.6.2 FrontPage/5.0.2.2635 mod_perl/1.31 PHP/4.4.9',\n",
       "       'Aeria Games & Entertainment', 'nginx/1.6.3 + Phusion Passenger',\n",
       "       'Apache/2.4.10 (Debian) PHP/5.6.30-0+deb8u1 mod_perl/2.0.9dev Perl/v5.20.2',\n",
       "       'mw2173.codfw.wmnet',\n",
       "       'Apache/2.4.6 (Red Hat Enterprise Linux) OpenSSL/1.0.1e-fips mod_fcgid/2.3.9 Communique/4.2.0',\n",
       "       'Apache/2.2.15 (CentOS) DAV/2 mod_ssl/2.2.15 OpenSSL/1.0.1e-fips PHP/5.3.3',\n",
       "       'Apache/2.4.6 (CentOS) OpenSSL/1.0.1e-fips PHP/7.0.14',\n",
       "       'mw2198.codfw.wmnet', 'mw2172.codfw.wmnet', 'nginx/1.2.6',\n",
       "       'Apache/2.4.6 (Unix) mod_jk/1.2.37',\n",
       "       'Apache/2.4.25 (Unix) OpenSSL/1.0.1e-fips mod_bwlimited/1.4',\n",
       "       'nginx/1.4.4', 'Cowboy', 'mw2113.codfw.wmnet',\n",
       "       'Apache/2.2.14 (Unix) mod_ssl/2.2.14 OpenSSL/0.9.8a',\n",
       "       'Apache/2.4.10 (Ubuntu)', 'mw2224.codfw.wmnet',\n",
       "       'mw2171.codfw.wmnet', 'mw2257.codfw.wmnet', 'mw2226.codfw.wmnet',\n",
       "       'DMS/1.0.42', 'nginx/1.6.3', 'Application-Server',\n",
       "       'Apache/2.4.6 (CentOS) mod_fcgid/2.3.9 PHP/5.6.30',\n",
       "       'mw2177.codfw.wmnet', 'lighttpd/1.4.28', 'mw2197.codfw.wmnet',\n",
       "       'Apache/2.2.31 (FreeBSD) PHP/5.4.15 mod_ssl/2.2.31 OpenSSL/1.0.2d DAV/2',\n",
       "       'Apache/2.2.26 (Unix) mod_ssl/2.2.26 OpenSSL/1.0.1e-fips DAV/2 mod_bwlimited/1.4',\n",
       "       'Apache/2.2.24 (Unix) DAV/2 PHP/5.3.26 mod_ssl/2.2.24 OpenSSL/0.9.8y',\n",
       "       'mw2178.codfw.wmnet', '294', 'Microsoft-IIS/6.0', 'nginx/1.7.4',\n",
       "       'Apache/2.2.22 (Debian) mod_python/3.3.1 Python/2.7.3 mod_ssl/2.2.22 OpenSSL/1.0.1t',\n",
       "       'Apache/2.4.16 (Ubuntu)', 'www.lexisnexis.com  9999',\n",
       "       'nginx/0.8.38', 'mw2238.codfw.wmnet', 'Pizza/pepperoni',\n",
       "       'XXXXXXXXXXXXXXXXXXXXXX', 'MI', 'Roxen/5.4.98-r2',\n",
       "       'Apache/2.2.31 (Unix) mod_ssl/2.2.31 OpenSSL/1.0.1e-fips mod_bwlimited/1.4',\n",
       "       'nginx/1.9.13', 'mw2180.codfw.wmnet', 'Apache/2.2.14 (Ubuntu)',\n",
       "       'ebay server', 'nginx/0.8.55', 'Apache/2.2.10 (Linux/SUSE)',\n",
       "       'nginx/1.7.12',\n",
       "       'Apache/2.0.63 (Unix) mod_ssl/2.0.63 OpenSSL/0.9.8e-fips-rhel5 mod_auth_passthrough/2.1 mod_bwlimited/1.4 PHP/5.3.6',\n",
       "       'Boston.com Frontend', 'My Arse', 'IdeaWebServer/v0.80',\n",
       "       'Apache/2.4.17 (Unix) OpenSSL/1.0.1e-fips PHP/5.6.19',\n",
       "       'Microsoft-IIS/7.5; litigation_essentials.lexisnexis.com  9999',\n",
       "       'Apache/2.2.16 (Debian)'], dtype=object)"
      ]
     },
     "execution_count": 55,
     "metadata": {},
     "output_type": "execute_result"
    }
   ],
   "source": [
    "# Your code here\n",
    "websites_clean[\"SERVER\"].unique()"
   ]
  },
  {
   "cell_type": "markdown",
   "metadata": {},
   "source": [
    "![Think Hard](../images/think-hard.jpg)"
   ]
  },
  {
   "cell_type": "code",
   "execution_count": 32,
   "metadata": {},
   "outputs": [],
   "source": [
    "# Your comment here\n"
   ]
  },
  {
   "cell_type": "markdown",
   "metadata": {},
   "source": [
    "Although there are so many unique values in the `SERVER` column, there are actually only 3 main server types: `Microsoft`, `Apache`, and `nginx`. Just check if each `SERVER` value contains any of those server types and re-label them. For `SERVER` values that don't contain any of those substrings, label with `Other`.\n",
    "\n",
    "At the end, your `SERVER` column should only contain 4 unique values: `Microsoft`, `Apache`, `nginx`, and `Other`."
   ]
  },
  {
   "cell_type": "code",
   "execution_count": 56,
   "metadata": {},
   "outputs": [
    {
     "name": "stderr",
     "output_type": "stream",
     "text": [
      "<ipython-input-56-be3b7802921b>:12: SettingWithCopyWarning: \n",
      "A value is trying to be set on a copy of a slice from a DataFrame.\n",
      "Try using .loc[row_indexer,col_indexer] = value instead\n",
      "\n",
      "See the caveats in the documentation: https://pandas.pydata.org/pandas-docs/stable/user_guide/indexing.html#returning-a-view-versus-a-copy\n",
      "  websites_clean['SERVER'] = websites_clean['SERVER'].apply(change_server)\n"
     ]
    },
    {
     "data": {
      "text/html": [
       "<div>\n",
       "<style scoped>\n",
       "    .dataframe tbody tr th:only-of-type {\n",
       "        vertical-align: middle;\n",
       "    }\n",
       "\n",
       "    .dataframe tbody tr th {\n",
       "        vertical-align: top;\n",
       "    }\n",
       "\n",
       "    .dataframe thead th {\n",
       "        text-align: right;\n",
       "    }\n",
       "</style>\n",
       "<table border=\"1\" class=\"dataframe\">\n",
       "  <thead>\n",
       "    <tr style=\"text-align: right;\">\n",
       "      <th></th>\n",
       "      <th>NUMBER_SPECIAL_CHARACTERS</th>\n",
       "      <th>CHARSET</th>\n",
       "      <th>SERVER</th>\n",
       "      <th>WHOIS_COUNTRY</th>\n",
       "      <th>DIST_REMOTE_TCP_PORT</th>\n",
       "      <th>REMOTE_IPS</th>\n",
       "      <th>APP_BYTES</th>\n",
       "      <th>SOURCE_APP_BYTES</th>\n",
       "      <th>APP_PACKETS</th>\n",
       "      <th>DNS_QUERY_TIMES</th>\n",
       "      <th>Type</th>\n",
       "    </tr>\n",
       "  </thead>\n",
       "  <tbody>\n",
       "    <tr>\n",
       "      <th>0</th>\n",
       "      <td>7</td>\n",
       "      <td>iso-8859-1</td>\n",
       "      <td>nginx</td>\n",
       "      <td>OTHER</td>\n",
       "      <td>0</td>\n",
       "      <td>2</td>\n",
       "      <td>700</td>\n",
       "      <td>1153</td>\n",
       "      <td>9</td>\n",
       "      <td>2.0</td>\n",
       "      <td>1</td>\n",
       "    </tr>\n",
       "    <tr>\n",
       "      <th>1</th>\n",
       "      <td>6</td>\n",
       "      <td>UTF-8</td>\n",
       "      <td>Apache</td>\n",
       "      <td>OTHER</td>\n",
       "      <td>7</td>\n",
       "      <td>4</td>\n",
       "      <td>1230</td>\n",
       "      <td>1265</td>\n",
       "      <td>17</td>\n",
       "      <td>0.0</td>\n",
       "      <td>0</td>\n",
       "    </tr>\n",
       "    <tr>\n",
       "      <th>2</th>\n",
       "      <td>6</td>\n",
       "      <td>us-ascii</td>\n",
       "      <td>Microsoft</td>\n",
       "      <td>OTHER</td>\n",
       "      <td>0</td>\n",
       "      <td>0</td>\n",
       "      <td>0</td>\n",
       "      <td>0</td>\n",
       "      <td>0</td>\n",
       "      <td>0.0</td>\n",
       "      <td>0</td>\n",
       "    </tr>\n",
       "    <tr>\n",
       "      <th>3</th>\n",
       "      <td>6</td>\n",
       "      <td>ISO-8859-1</td>\n",
       "      <td>nginx</td>\n",
       "      <td>US</td>\n",
       "      <td>22</td>\n",
       "      <td>3</td>\n",
       "      <td>3812</td>\n",
       "      <td>18784</td>\n",
       "      <td>39</td>\n",
       "      <td>8.0</td>\n",
       "      <td>0</td>\n",
       "    </tr>\n",
       "    <tr>\n",
       "      <th>4</th>\n",
       "      <td>6</td>\n",
       "      <td>UTF-8</td>\n",
       "      <td>OTHER</td>\n",
       "      <td>US</td>\n",
       "      <td>2</td>\n",
       "      <td>5</td>\n",
       "      <td>4278</td>\n",
       "      <td>129889</td>\n",
       "      <td>61</td>\n",
       "      <td>4.0</td>\n",
       "      <td>0</td>\n",
       "    </tr>\n",
       "  </tbody>\n",
       "</table>\n",
       "</div>"
      ],
      "text/plain": [
       "   NUMBER_SPECIAL_CHARACTERS     CHARSET     SERVER WHOIS_COUNTRY  \\\n",
       "0                          7  iso-8859-1      nginx         OTHER   \n",
       "1                          6       UTF-8     Apache         OTHER   \n",
       "2                          6    us-ascii  Microsoft         OTHER   \n",
       "3                          6  ISO-8859-1      nginx            US   \n",
       "4                          6       UTF-8      OTHER            US   \n",
       "\n",
       "   DIST_REMOTE_TCP_PORT  REMOTE_IPS  APP_BYTES  SOURCE_APP_BYTES  APP_PACKETS  \\\n",
       "0                     0           2        700              1153            9   \n",
       "1                     7           4       1230              1265           17   \n",
       "2                     0           0          0                 0            0   \n",
       "3                    22           3       3812             18784           39   \n",
       "4                     2           5       4278            129889           61   \n",
       "\n",
       "   DNS_QUERY_TIMES  Type  \n",
       "0              2.0     1  \n",
       "1              0.0     0  \n",
       "2              0.0     0  \n",
       "3              8.0     0  \n",
       "4              4.0     0  "
      ]
     },
     "execution_count": 56,
     "metadata": {},
     "output_type": "execute_result"
    }
   ],
   "source": [
    "# Your code here\n",
    "def change_server(server_name):\n",
    "    if 'microsoft' in server_name.lower():\n",
    "        return 'Microsoft'\n",
    "    elif 'apache' in server_name.lower():\n",
    "        return 'Apache'\n",
    "    elif 'nginx' in server_name.lower():\n",
    "        return 'nginx'\n",
    "    else:\n",
    "        return 'OTHER'\n",
    "\n",
    "websites_clean['SERVER'] = websites_clean['SERVER'].apply(change_server)\n",
    "websites_clean.head()"
   ]
  },
  {
   "cell_type": "code",
   "execution_count": 61,
   "metadata": {
    "scrolled": false
   },
   "outputs": [
    {
     "data": {
      "text/plain": [
       "Apache       642\n",
       "OTHER        503\n",
       "nginx        436\n",
       "Microsoft    198\n",
       "Name: SERVER, dtype: int64"
      ]
     },
     "execution_count": 61,
     "metadata": {},
     "output_type": "execute_result"
    }
   ],
   "source": [
    "# Count `SERVER` value counts here\n",
    "websites_clean[\"SERVER\"].value_counts()"
   ]
  },
  {
   "cell_type": "markdown",
   "metadata": {},
   "source": [
    "OK, all our categorical data are fixed now. **Let's convert them to ordinal data using Pandas' `get_dummies` function ([documentation](https://pandas.pydata.org/pandas-docs/stable/generated/pandas.get_dummies.html)). Also, assign the data with dummy values to a new variable `website_dummy`.**"
   ]
  },
  {
   "cell_type": "code",
   "execution_count": 62,
   "metadata": {},
   "outputs": [],
   "source": [
    "# Your code here\n",
    "website_dummy=pd.get_dummies(websites_clean)"
   ]
  },
  {
   "cell_type": "markdown",
   "metadata": {},
   "source": [
    "Now, inspect `website_dummy` to make sure the data and types are intended - there shouldn't be any categorical columns at this point."
   ]
  },
  {
   "cell_type": "code",
   "execution_count": 63,
   "metadata": {},
   "outputs": [
    {
     "data": {
      "text/html": [
       "<div>\n",
       "<style scoped>\n",
       "    .dataframe tbody tr th:only-of-type {\n",
       "        vertical-align: middle;\n",
       "    }\n",
       "\n",
       "    .dataframe tbody tr th {\n",
       "        vertical-align: top;\n",
       "    }\n",
       "\n",
       "    .dataframe thead th {\n",
       "        text-align: right;\n",
       "    }\n",
       "</style>\n",
       "<table border=\"1\" class=\"dataframe\">\n",
       "  <thead>\n",
       "    <tr style=\"text-align: right;\">\n",
       "      <th></th>\n",
       "      <th>NUMBER_SPECIAL_CHARACTERS</th>\n",
       "      <th>DIST_REMOTE_TCP_PORT</th>\n",
       "      <th>REMOTE_IPS</th>\n",
       "      <th>APP_BYTES</th>\n",
       "      <th>SOURCE_APP_BYTES</th>\n",
       "      <th>APP_PACKETS</th>\n",
       "      <th>DNS_QUERY_TIMES</th>\n",
       "      <th>Type</th>\n",
       "      <th>CHARSET_ISO-8859</th>\n",
       "      <th>CHARSET_ISO-8859-1</th>\n",
       "      <th>...</th>\n",
       "      <th>WHOIS_COUNTRY_AU</th>\n",
       "      <th>WHOIS_COUNTRY_CA</th>\n",
       "      <th>WHOIS_COUNTRY_CN</th>\n",
       "      <th>WHOIS_COUNTRY_ES</th>\n",
       "      <th>WHOIS_COUNTRY_IN</th>\n",
       "      <th>WHOIS_COUNTRY_JP</th>\n",
       "      <th>WHOIS_COUNTRY_OTHER</th>\n",
       "      <th>WHOIS_COUNTRY_PA</th>\n",
       "      <th>WHOIS_COUNTRY_UK</th>\n",
       "      <th>WHOIS_COUNTRY_US</th>\n",
       "    </tr>\n",
       "  </thead>\n",
       "  <tbody>\n",
       "    <tr>\n",
       "      <th>0</th>\n",
       "      <td>7</td>\n",
       "      <td>0</td>\n",
       "      <td>2</td>\n",
       "      <td>700</td>\n",
       "      <td>1153</td>\n",
       "      <td>9</td>\n",
       "      <td>2.0</td>\n",
       "      <td>1</td>\n",
       "      <td>0</td>\n",
       "      <td>0</td>\n",
       "      <td>...</td>\n",
       "      <td>0</td>\n",
       "      <td>0</td>\n",
       "      <td>0</td>\n",
       "      <td>0</td>\n",
       "      <td>0</td>\n",
       "      <td>0</td>\n",
       "      <td>1</td>\n",
       "      <td>0</td>\n",
       "      <td>0</td>\n",
       "      <td>0</td>\n",
       "    </tr>\n",
       "    <tr>\n",
       "      <th>1</th>\n",
       "      <td>6</td>\n",
       "      <td>7</td>\n",
       "      <td>4</td>\n",
       "      <td>1230</td>\n",
       "      <td>1265</td>\n",
       "      <td>17</td>\n",
       "      <td>0.0</td>\n",
       "      <td>0</td>\n",
       "      <td>0</td>\n",
       "      <td>0</td>\n",
       "      <td>...</td>\n",
       "      <td>0</td>\n",
       "      <td>0</td>\n",
       "      <td>0</td>\n",
       "      <td>0</td>\n",
       "      <td>0</td>\n",
       "      <td>0</td>\n",
       "      <td>1</td>\n",
       "      <td>0</td>\n",
       "      <td>0</td>\n",
       "      <td>0</td>\n",
       "    </tr>\n",
       "    <tr>\n",
       "      <th>2</th>\n",
       "      <td>6</td>\n",
       "      <td>0</td>\n",
       "      <td>0</td>\n",
       "      <td>0</td>\n",
       "      <td>0</td>\n",
       "      <td>0</td>\n",
       "      <td>0.0</td>\n",
       "      <td>0</td>\n",
       "      <td>0</td>\n",
       "      <td>0</td>\n",
       "      <td>...</td>\n",
       "      <td>0</td>\n",
       "      <td>0</td>\n",
       "      <td>0</td>\n",
       "      <td>0</td>\n",
       "      <td>0</td>\n",
       "      <td>0</td>\n",
       "      <td>1</td>\n",
       "      <td>0</td>\n",
       "      <td>0</td>\n",
       "      <td>0</td>\n",
       "    </tr>\n",
       "    <tr>\n",
       "      <th>3</th>\n",
       "      <td>6</td>\n",
       "      <td>22</td>\n",
       "      <td>3</td>\n",
       "      <td>3812</td>\n",
       "      <td>18784</td>\n",
       "      <td>39</td>\n",
       "      <td>8.0</td>\n",
       "      <td>0</td>\n",
       "      <td>0</td>\n",
       "      <td>1</td>\n",
       "      <td>...</td>\n",
       "      <td>0</td>\n",
       "      <td>0</td>\n",
       "      <td>0</td>\n",
       "      <td>0</td>\n",
       "      <td>0</td>\n",
       "      <td>0</td>\n",
       "      <td>0</td>\n",
       "      <td>0</td>\n",
       "      <td>0</td>\n",
       "      <td>1</td>\n",
       "    </tr>\n",
       "    <tr>\n",
       "      <th>4</th>\n",
       "      <td>6</td>\n",
       "      <td>2</td>\n",
       "      <td>5</td>\n",
       "      <td>4278</td>\n",
       "      <td>129889</td>\n",
       "      <td>61</td>\n",
       "      <td>4.0</td>\n",
       "      <td>0</td>\n",
       "      <td>0</td>\n",
       "      <td>0</td>\n",
       "      <td>...</td>\n",
       "      <td>0</td>\n",
       "      <td>0</td>\n",
       "      <td>0</td>\n",
       "      <td>0</td>\n",
       "      <td>0</td>\n",
       "      <td>0</td>\n",
       "      <td>0</td>\n",
       "      <td>0</td>\n",
       "      <td>0</td>\n",
       "      <td>1</td>\n",
       "    </tr>\n",
       "  </tbody>\n",
       "</table>\n",
       "<p>5 rows × 31 columns</p>\n",
       "</div>"
      ],
      "text/plain": [
       "   NUMBER_SPECIAL_CHARACTERS  DIST_REMOTE_TCP_PORT  REMOTE_IPS  APP_BYTES  \\\n",
       "0                          7                     0           2        700   \n",
       "1                          6                     7           4       1230   \n",
       "2                          6                     0           0          0   \n",
       "3                          6                    22           3       3812   \n",
       "4                          6                     2           5       4278   \n",
       "\n",
       "   SOURCE_APP_BYTES  APP_PACKETS  DNS_QUERY_TIMES  Type  CHARSET_ISO-8859  \\\n",
       "0              1153            9              2.0     1                 0   \n",
       "1              1265           17              0.0     0                 0   \n",
       "2                 0            0              0.0     0                 0   \n",
       "3             18784           39              8.0     0                 0   \n",
       "4            129889           61              4.0     0                 0   \n",
       "\n",
       "   CHARSET_ISO-8859-1  ...  WHOIS_COUNTRY_AU  WHOIS_COUNTRY_CA  \\\n",
       "0                   0  ...                 0                 0   \n",
       "1                   0  ...                 0                 0   \n",
       "2                   0  ...                 0                 0   \n",
       "3                   1  ...                 0                 0   \n",
       "4                   0  ...                 0                 0   \n",
       "\n",
       "   WHOIS_COUNTRY_CN  WHOIS_COUNTRY_ES  WHOIS_COUNTRY_IN  WHOIS_COUNTRY_JP  \\\n",
       "0                 0                 0                 0                 0   \n",
       "1                 0                 0                 0                 0   \n",
       "2                 0                 0                 0                 0   \n",
       "3                 0                 0                 0                 0   \n",
       "4                 0                 0                 0                 0   \n",
       "\n",
       "   WHOIS_COUNTRY_OTHER  WHOIS_COUNTRY_PA  WHOIS_COUNTRY_UK  WHOIS_COUNTRY_US  \n",
       "0                    1                 0                 0                 0  \n",
       "1                    1                 0                 0                 0  \n",
       "2                    1                 0                 0                 0  \n",
       "3                    0                 0                 0                 1  \n",
       "4                    0                 0                 0                 1  \n",
       "\n",
       "[5 rows x 31 columns]"
      ]
     },
     "execution_count": 63,
     "metadata": {},
     "output_type": "execute_result"
    }
   ],
   "source": [
    "# Your code here\n",
    "website_dummy.head()"
   ]
  },
  {
   "cell_type": "code",
   "execution_count": 64,
   "metadata": {},
   "outputs": [
    {
     "data": {
      "text/plain": [
       "NUMBER_SPECIAL_CHARACTERS      int64\n",
       "DIST_REMOTE_TCP_PORT           int64\n",
       "REMOTE_IPS                     int64\n",
       "APP_BYTES                      int64\n",
       "SOURCE_APP_BYTES               int64\n",
       "APP_PACKETS                    int64\n",
       "DNS_QUERY_TIMES              float64\n",
       "Type                           int64\n",
       "CHARSET_ISO-8859               uint8\n",
       "CHARSET_ISO-8859-1             uint8\n",
       "CHARSET_None                   uint8\n",
       "CHARSET_UTF-8                  uint8\n",
       "CHARSET_iso-8859-1             uint8\n",
       "CHARSET_us-ascii               uint8\n",
       "CHARSET_utf-8                  uint8\n",
       "CHARSET_windows-1251           uint8\n",
       "CHARSET_windows-1252           uint8\n",
       "SERVER_Apache                  uint8\n",
       "SERVER_Microsoft               uint8\n",
       "SERVER_OTHER                   uint8\n",
       "SERVER_nginx                   uint8\n",
       "WHOIS_COUNTRY_AU               uint8\n",
       "WHOIS_COUNTRY_CA               uint8\n",
       "WHOIS_COUNTRY_CN               uint8\n",
       "WHOIS_COUNTRY_ES               uint8\n",
       "WHOIS_COUNTRY_IN               uint8\n",
       "WHOIS_COUNTRY_JP               uint8\n",
       "WHOIS_COUNTRY_OTHER            uint8\n",
       "WHOIS_COUNTRY_PA               uint8\n",
       "WHOIS_COUNTRY_UK               uint8\n",
       "WHOIS_COUNTRY_US               uint8\n",
       "dtype: object"
      ]
     },
     "execution_count": 64,
     "metadata": {},
     "output_type": "execute_result"
    }
   ],
   "source": [
    "website_dummy.dtypes"
   ]
  },
  {
   "cell_type": "markdown",
   "metadata": {},
   "source": [
    "# Challenge 6 - Modeling, Prediction, and Evaluation\n",
    "\n",
    "We'll start off this section by splitting the data to train and test. **Name your 4 variables `X_train`, `X_test`, `y_train`, and `y_test`. Select 80% of the data for training and 20% for testing.**"
   ]
  },
  {
   "cell_type": "code",
   "execution_count": 67,
   "metadata": {},
   "outputs": [],
   "source": [
    "from sklearn.model_selection import train_test_split\n",
    "\n",
    "y = website_dummy['Type']\n",
    "X = website_dummy.drop(columns=['Type'])\n",
    "\n",
    "# Your code here:\n",
    "X_train, X_test, y_train, y_test =train_test_split(X, y, random_state=1, test_size=0.2)"
   ]
  },
  {
   "cell_type": "markdown",
   "metadata": {},
   "source": [
    "#### In this lab, we will try two different models and compare our results.\n",
    "\n",
    "The first model we will use in this lab is logistic regression. We have previously learned about logistic regression as a classification algorithm. In the cell below, load `LogisticRegression` from scikit-learn and initialize the model."
   ]
  },
  {
   "cell_type": "code",
   "execution_count": 70,
   "metadata": {},
   "outputs": [],
   "source": [
    "# Your code here:\n",
    "\n",
    "from sklearn.linear_model import LogisticRegression"
   ]
  },
  {
   "cell_type": "markdown",
   "metadata": {},
   "source": [
    "Next, fit the model to our training data. We have already separated our data into 4 parts. Use those in your model."
   ]
  },
  {
   "cell_type": "code",
   "execution_count": 71,
   "metadata": {},
   "outputs": [
    {
     "name": "stderr",
     "output_type": "stream",
     "text": [
      "/Users/barbaramuniz/opt/anaconda3/envs/ironh/lib/python3.9/site-packages/sklearn/linear_model/_logistic.py:814: ConvergenceWarning: lbfgs failed to converge (status=1):\n",
      "STOP: TOTAL NO. of ITERATIONS REACHED LIMIT.\n",
      "\n",
      "Increase the number of iterations (max_iter) or scale the data as shown in:\n",
      "    https://scikit-learn.org/stable/modules/preprocessing.html\n",
      "Please also refer to the documentation for alternative solver options:\n",
      "    https://scikit-learn.org/stable/modules/linear_model.html#logistic-regression\n",
      "  n_iter_i = _check_optimize_result(\n"
     ]
    },
    {
     "data": {
      "text/plain": [
       "LogisticRegression()"
      ]
     },
     "execution_count": 71,
     "metadata": {},
     "output_type": "execute_result"
    }
   ],
   "source": [
    "# Your code here:\n",
    "\n",
    "model = LogisticRegression()\n",
    "model.fit(X_train, y_train)"
   ]
  },
  {
   "cell_type": "markdown",
   "metadata": {},
   "source": [
    "finally, import `confusion_matrix` and `accuracy_score` from `sklearn.metrics` and fit our testing data. Assign the fitted data to `y_pred` and print the confusion matrix as well as the accuracy score"
   ]
  },
  {
   "cell_type": "code",
   "execution_count": 72,
   "metadata": {},
   "outputs": [
    {
     "data": {
      "text/plain": [
       "array([[300,  13],\n",
       "       [ 31,  12]])"
      ]
     },
     "metadata": {},
     "output_type": "display_data"
    },
    {
     "data": {
      "text/plain": [
       "0.8764044943820225"
      ]
     },
     "metadata": {},
     "output_type": "display_data"
    }
   ],
   "source": [
    "# Your code here:\n",
    "\n",
    "from sklearn.metrics import confusion_matrix, accuracy_score\n",
    "\n",
    "y_pred = model.predict(X_test)\n",
    "\n",
    "display(confusion_matrix(y_test, y_pred))\n",
    "display(accuracy_score(y_test, y_pred))"
   ]
  },
  {
   "cell_type": "markdown",
   "metadata": {},
   "source": [
    "What are your thoughts on the performance of the model? Write your conclusions below."
   ]
  },
  {
   "cell_type": "code",
   "execution_count": 41,
   "metadata": {},
   "outputs": [],
   "source": [
    "# Your conclusions here:\n",
    "\n",
    "#although our score (accuracy) is good, the number of false negative is a bit high (31)"
   ]
  },
  {
   "cell_type": "markdown",
   "metadata": {},
   "source": [
    "#### Our second algorithm is is K-Nearest Neighbors. \n",
    "\n",
    "Though is it not required, we will fit a model using the training data and then test the performance of the model using the testing data. Start by loading `KNeighborsClassifier` from scikit-learn and then initializing and fitting the model. We'll start off with a model where k=3."
   ]
  },
  {
   "cell_type": "code",
   "execution_count": 73,
   "metadata": {},
   "outputs": [],
   "source": [
    "# Your code here:\n",
    "\n",
    "from sklearn.neighbors import KNeighborsClassifier\n",
    "\n",
    "model = KNeighborsClassifier(n_neighbors=3)"
   ]
  },
  {
   "cell_type": "markdown",
   "metadata": {},
   "source": [
    "To test your model, compute the predicted values for the testing sample and print the confusion matrix as well as the accuracy score."
   ]
  },
  {
   "cell_type": "code",
   "execution_count": 74,
   "metadata": {},
   "outputs": [
    {
     "data": {
      "text/plain": [
       "array([[298,  15],\n",
       "       [ 13,  30]])"
      ]
     },
     "metadata": {},
     "output_type": "display_data"
    },
    {
     "data": {
      "text/plain": [
       "0.9213483146067416"
      ]
     },
     "metadata": {},
     "output_type": "display_data"
    }
   ],
   "source": [
    "# Your code here:\n",
    "\n",
    "model.fit(X_train, y_train)\n",
    "\n",
    "y_pred = model.predict(X_test)\n",
    "display(confusion_matrix(y_test, y_pred))\n",
    "display(accuracy_score(y_test, y_pred))"
   ]
  },
  {
   "cell_type": "markdown",
   "metadata": {},
   "source": [
    "#### We'll create another K-Nearest Neighbors model with k=5. \n",
    "\n",
    "Initialize and fit the model below and print the confusion matrix and the accuracy score."
   ]
  },
  {
   "cell_type": "code",
   "execution_count": 76,
   "metadata": {},
   "outputs": [],
   "source": [
    "# Your code here:\n",
    "\n",
    "from sklearn.neighbors import KNeighborsClassifier\n",
    "\n",
    "model = KNeighborsClassifier(n_neighbors=5)"
   ]
  },
  {
   "cell_type": "code",
   "execution_count": 77,
   "metadata": {},
   "outputs": [
    {
     "data": {
      "text/plain": [
       "array([[299,  14],\n",
       "       [ 13,  30]])"
      ]
     },
     "metadata": {},
     "output_type": "display_data"
    },
    {
     "data": {
      "text/plain": [
       "0.9241573033707865"
      ]
     },
     "metadata": {},
     "output_type": "display_data"
    }
   ],
   "source": [
    "model.fit(X_train, y_train)\n",
    "\n",
    "y_pred = model.predict(X_test)\n",
    "display(confusion_matrix(y_test, y_pred))\n",
    "display(accuracy_score(y_test, y_pred))"
   ]
  },
  {
   "cell_type": "markdown",
   "metadata": {},
   "source": [
    "Did you see an improvement in the confusion matrix when increasing k to 5? Did you see an improvement in the accuracy score? Write your conclusions below."
   ]
  },
  {
   "cell_type": "code",
   "execution_count": 45,
   "metadata": {},
   "outputs": [],
   "source": [
    "# Your conclusions here:\n",
    "#yes, one more true negative predicted\n"
   ]
  },
  {
   "cell_type": "markdown",
   "metadata": {},
   "source": [
    "# Bonus Challenge - Feature Scaling\n",
    "\n",
    "Problem-solving in machine learning is iterative. You can improve your model prediction with various techniques (there is a sweetspot for the time you spend and the improvement you receive though). Now you've completed only one iteration of ML analysis. There are more iterations you can conduct to make improvements. In order to be able to do that, you will need deeper knowledge in statistics and master more data analysis techniques. In this bootcamp, we don't have time to achieve that advanced goal. But you will make constant efforts after the bootcamp to eventually get there.\n",
    "\n",
    "However, now we do want you to learn one of the advanced techniques which is called *feature scaling*. The idea of feature scaling is to standardize/normalize the range of independent variables or features of the data. This can make the outliers more apparent so that you can remove them. This step needs to happen during Challenge 6 after you split the training and test data because you don't want to split the data again which makes it impossible to compare your results with and without feature scaling. For general concepts about feature scaling, click [here](https://en.wikipedia.org/wiki/Feature_scaling). To read deeper, click [here](https://medium.com/greyatom/why-how-and-when-to-scale-your-features-4b30ab09db5e).\n",
    "\n",
    "In the next cell, attempt to improve your model prediction accuracy by means of feature scaling. A library you can utilize is `sklearn.preprocessing.RobustScaler` ([documentation](https://scikit-learn.org/stable/modules/generated/sklearn.preprocessing.RobustScaler.html)). You'll use the `RobustScaler` to fit and transform your `X_train`, then transform `X_test`. You will use logistic regression to fit and predict your transformed data and obtain the accuracy score in the same way. Compare the accuracy score with your normalized data with the previous accuracy data. Is there an improvement?"
   ]
  },
  {
   "cell_type": "code",
   "execution_count": 46,
   "metadata": {},
   "outputs": [],
   "source": [
    "# Your code here"
   ]
  }
 ],
 "metadata": {
  "kernelspec": {
   "display_name": "Python 3",
   "language": "python",
   "name": "python3"
  },
  "language_info": {
   "codemirror_mode": {
    "name": "ipython",
    "version": 3
   },
   "file_extension": ".py",
   "mimetype": "text/x-python",
   "name": "python",
   "nbconvert_exporter": "python",
   "pygments_lexer": "ipython3",
   "version": "3.9.10"
  }
 },
 "nbformat": 4,
 "nbformat_minor": 2
}
